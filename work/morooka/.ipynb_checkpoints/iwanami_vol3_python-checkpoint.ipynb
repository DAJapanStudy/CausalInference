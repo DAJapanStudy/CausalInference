{
 "cells": [
  {
   "cell_type": "markdown",
   "metadata": {},
   "source": [
    "## 参考文献\n",
    "* [岩波データサイエンスvol.3のデータで遊ぼう](https://rstudio-pubs-static.s3.amazonaws.com/192092_6a8bac32eac24d7ca3a4791a80e7f3d3.html)\n",
    ">★★★\n",
    "* [Harvard Causal Inference Book](https://www.hsph.harvard.edu/miguel-hernan/causal-inference-book/)\n",
    ">★★\n",
    "> * [pdf](https://cdn1.sph.harvard.edu/wp-content/uploads/sites/1268/2019/11/ci_hernanrobins_10nov19.pdf)\n",
    "> * [github(python)](https://github.com/jrfiedler/causal_inference_python_code)\n",
    "* https://www.randpy.tokyo/entry/python_propensity_score\n",
    "> ★★★\n",
    "> * Pythonによる実装\n",
    "> * 傾向スコアでのマッチングおよび、IPW推定量まで\n",
    "* https://www.slideshare.net/shuyo/observational-study-causality-52737410?qid=c202bc91-24d0-46e9-96e3-d9238e1e43bb&v=&b=&from_search=3\n",
    "> ★★\n",
    ">* 星野本1・2章の振り返り＆3章まとめ\n",
    ">* 本よりは簡潔で分かりやすいが、数式も割と追っている\n",
    "* http://tomoshige-n.hatenablog.com/entry/2016/06/19/033252\n",
    ">★★\n",
    ">* 岩波DSvol3の著者のうち1名のブログ\n",
    ">* IPW推定量のイメージが少しつかめる\n",
    "* https://sites.google.com/site/iwanamidatascience/vol-3/vol3-ingasuiron\n",
    ">★★\n",
    ">* 岩波DSvol3の各論の補足資料\n",
    "* https://speakerdeck.com/tomoshige_n/causal-inference-and-data-analysis\n",
    ">★★★\n",
    ">* 傾向スコア使用時の実務的な注意点など\n",
    ">* 因果推論とは究極的に、「処置と結果変数に影響する変数の分布をすべて」処置群と対称群で等しくすればよい。（P.19）\n",
    ">* 2つの群の分布を釣り合わせているというのは、処置変数に影響する変数／潜在結果変数に与える影響が、2つの群で同じ分布となること（P.23）\n",
    ">* Bootstrap法でばらつきを考えるべき\n",
    ">* 推定値・BSサンプルの平均・推定分散・BSサンプルの分散・95%信頼区間・BS95%信頼区間、の6つは絶対に示した方が良い\n",
    "* https://www.slideshare.net/takehikoihayashi/propensity-score-analysis-seminar-japanese\n",
    ">★★\n",
    ">* ・1番とっつきやすい資料\n",
    "* https://www.slideshare.net/okumurayasuyuki/ss-43780294?next_slideshow=1\n",
    ">★★\n",
    ">* 傾向スコアの利用法が詳しい\n",
    "* https://pypi.org/project/CausalInference/\n",
    "> ★★★\n",
    ">* CausalInference Packageのページ（PyPl）\n",
    ">* 各種分析手法が非常に簡単な記述で実行可能"
   ]
  },
  {
   "cell_type": "markdown",
   "metadata": {},
   "source": [
    "## 準備"
   ]
  },
  {
   "cell_type": "code",
   "execution_count": 33,
   "metadata": {},
   "outputs": [],
   "source": [
    "import pandas as pd\n",
    "import numpy as np"
   ]
  },
  {
   "cell_type": "code",
   "execution_count": 34,
   "metadata": {},
   "outputs": [],
   "source": [
    "pd.options.display.max_columns = None\n",
    "pd.options.display.max_rows = None\n",
    "\n",
    "from IPython.core.interactiveshell import InteractiveShell\n",
    "InteractiveShell.ast_node_interactivity = \"all\""
   ]
  },
  {
   "cell_type": "code",
   "execution_count": 35,
   "metadata": {},
   "outputs": [],
   "source": [
    "import matplotlib.pyplot as plt\n",
    "%matplotlib inline\n",
    "import seaborn as sns"
   ]
  },
  {
   "cell_type": "code",
   "execution_count": 36,
   "metadata": {},
   "outputs": [
    {
     "data": {
      "text/plain": [
       "(10000, 35)"
      ]
     },
     "execution_count": 36,
     "metadata": {},
     "output_type": "execute_result"
    },
    {
     "data": {
      "text/html": [
       "<div>\n",
       "<style scoped>\n",
       "    .dataframe tbody tr th:only-of-type {\n",
       "        vertical-align: middle;\n",
       "    }\n",
       "\n",
       "    .dataframe tbody tr th {\n",
       "        vertical-align: top;\n",
       "    }\n",
       "\n",
       "    .dataframe thead th {\n",
       "        text-align: right;\n",
       "    }\n",
       "</style>\n",
       "<table border=\"1\" class=\"dataframe\">\n",
       "  <thead>\n",
       "    <tr style=\"text-align: right;\">\n",
       "      <th></th>\n",
       "      <th>cm_dummy</th>\n",
       "      <th>gamedummy</th>\n",
       "      <th>area_kanto</th>\n",
       "      <th>area_keihan</th>\n",
       "      <th>area_tokai</th>\n",
       "      <th>area_keihanshin</th>\n",
       "      <th>age</th>\n",
       "      <th>sex</th>\n",
       "      <th>marry_dummy</th>\n",
       "      <th>job_dummy1</th>\n",
       "      <th>job_dummy2</th>\n",
       "      <th>job_dummy3</th>\n",
       "      <th>job_dummy4</th>\n",
       "      <th>job_dummy5</th>\n",
       "      <th>job_dummy6</th>\n",
       "      <th>job_dummy7</th>\n",
       "      <th>job_dummy8</th>\n",
       "      <th>inc</th>\n",
       "      <th>pmoney</th>\n",
       "      <th>fam_str_dummy1</th>\n",
       "      <th>fam_str_dummy2</th>\n",
       "      <th>fam_str_dummy3</th>\n",
       "      <th>fam_str_dummy4</th>\n",
       "      <th>fam_str_dummy5</th>\n",
       "      <th>child_dummy</th>\n",
       "      <th>T</th>\n",
       "      <th>F1</th>\n",
       "      <th>F2</th>\n",
       "      <th>F3</th>\n",
       "      <th>M1</th>\n",
       "      <th>M2</th>\n",
       "      <th>M3</th>\n",
       "      <th>TVwatch_day</th>\n",
       "      <th>gamesecond</th>\n",
       "      <th>gamecount</th>\n",
       "    </tr>\n",
       "  </thead>\n",
       "  <tbody>\n",
       "    <tr>\n",
       "      <th>0</th>\n",
       "      <td>0</td>\n",
       "      <td>0</td>\n",
       "      <td>0</td>\n",
       "      <td>0</td>\n",
       "      <td>0</td>\n",
       "      <td>1</td>\n",
       "      <td>44.5</td>\n",
       "      <td>1</td>\n",
       "      <td>1</td>\n",
       "      <td>1</td>\n",
       "      <td>0</td>\n",
       "      <td>0</td>\n",
       "      <td>0</td>\n",
       "      <td>0</td>\n",
       "      <td>0</td>\n",
       "      <td>0</td>\n",
       "      <td>0</td>\n",
       "      <td>249.5</td>\n",
       "      <td>0.0</td>\n",
       "      <td>0</td>\n",
       "      <td>0</td>\n",
       "      <td>1</td>\n",
       "      <td>0</td>\n",
       "      <td>0</td>\n",
       "      <td>1</td>\n",
       "      <td>0</td>\n",
       "      <td>0</td>\n",
       "      <td>0</td>\n",
       "      <td>0</td>\n",
       "      <td>0</td>\n",
       "      <td>1</td>\n",
       "      <td>0</td>\n",
       "      <td>33.427600</td>\n",
       "      <td>0</td>\n",
       "      <td>0</td>\n",
       "    </tr>\n",
       "    <tr>\n",
       "      <th>1</th>\n",
       "      <td>0</td>\n",
       "      <td>0</td>\n",
       "      <td>0</td>\n",
       "      <td>1</td>\n",
       "      <td>0</td>\n",
       "      <td>0</td>\n",
       "      <td>34.5</td>\n",
       "      <td>1</td>\n",
       "      <td>1</td>\n",
       "      <td>1</td>\n",
       "      <td>0</td>\n",
       "      <td>0</td>\n",
       "      <td>0</td>\n",
       "      <td>0</td>\n",
       "      <td>0</td>\n",
       "      <td>0</td>\n",
       "      <td>0</td>\n",
       "      <td>800.0</td>\n",
       "      <td>12.5</td>\n",
       "      <td>0</td>\n",
       "      <td>0</td>\n",
       "      <td>1</td>\n",
       "      <td>0</td>\n",
       "      <td>0</td>\n",
       "      <td>1</td>\n",
       "      <td>0</td>\n",
       "      <td>0</td>\n",
       "      <td>0</td>\n",
       "      <td>0</td>\n",
       "      <td>0</td>\n",
       "      <td>1</td>\n",
       "      <td>0</td>\n",
       "      <td>31.542862</td>\n",
       "      <td>0</td>\n",
       "      <td>0</td>\n",
       "    </tr>\n",
       "    <tr>\n",
       "      <th>2</th>\n",
       "      <td>0</td>\n",
       "      <td>0</td>\n",
       "      <td>0</td>\n",
       "      <td>1</td>\n",
       "      <td>0</td>\n",
       "      <td>0</td>\n",
       "      <td>24.5</td>\n",
       "      <td>1</td>\n",
       "      <td>0</td>\n",
       "      <td>0</td>\n",
       "      <td>0</td>\n",
       "      <td>0</td>\n",
       "      <td>0</td>\n",
       "      <td>0</td>\n",
       "      <td>0</td>\n",
       "      <td>1</td>\n",
       "      <td>0</td>\n",
       "      <td>0.0</td>\n",
       "      <td>2.0</td>\n",
       "      <td>0</td>\n",
       "      <td>0</td>\n",
       "      <td>0</td>\n",
       "      <td>1</td>\n",
       "      <td>0</td>\n",
       "      <td>0</td>\n",
       "      <td>0</td>\n",
       "      <td>0</td>\n",
       "      <td>0</td>\n",
       "      <td>0</td>\n",
       "      <td>1</td>\n",
       "      <td>0</td>\n",
       "      <td>0</td>\n",
       "      <td>37.825805</td>\n",
       "      <td>0</td>\n",
       "      <td>0</td>\n",
       "    </tr>\n",
       "    <tr>\n",
       "      <th>3</th>\n",
       "      <td>0</td>\n",
       "      <td>0</td>\n",
       "      <td>0</td>\n",
       "      <td>1</td>\n",
       "      <td>0</td>\n",
       "      <td>0</td>\n",
       "      <td>44.5</td>\n",
       "      <td>1</td>\n",
       "      <td>1</td>\n",
       "      <td>1</td>\n",
       "      <td>0</td>\n",
       "      <td>0</td>\n",
       "      <td>0</td>\n",
       "      <td>0</td>\n",
       "      <td>0</td>\n",
       "      <td>0</td>\n",
       "      <td>0</td>\n",
       "      <td>800.0</td>\n",
       "      <td>2.0</td>\n",
       "      <td>0</td>\n",
       "      <td>0</td>\n",
       "      <td>1</td>\n",
       "      <td>0</td>\n",
       "      <td>0</td>\n",
       "      <td>1</td>\n",
       "      <td>0</td>\n",
       "      <td>0</td>\n",
       "      <td>0</td>\n",
       "      <td>0</td>\n",
       "      <td>0</td>\n",
       "      <td>1</td>\n",
       "      <td>0</td>\n",
       "      <td>36.345911</td>\n",
       "      <td>0</td>\n",
       "      <td>0</td>\n",
       "    </tr>\n",
       "    <tr>\n",
       "      <th>4</th>\n",
       "      <td>0</td>\n",
       "      <td>0</td>\n",
       "      <td>0</td>\n",
       "      <td>1</td>\n",
       "      <td>0</td>\n",
       "      <td>0</td>\n",
       "      <td>34.5</td>\n",
       "      <td>1</td>\n",
       "      <td>1</td>\n",
       "      <td>1</td>\n",
       "      <td>0</td>\n",
       "      <td>0</td>\n",
       "      <td>0</td>\n",
       "      <td>0</td>\n",
       "      <td>0</td>\n",
       "      <td>0</td>\n",
       "      <td>0</td>\n",
       "      <td>749.5</td>\n",
       "      <td>4.0</td>\n",
       "      <td>0</td>\n",
       "      <td>0</td>\n",
       "      <td>1</td>\n",
       "      <td>0</td>\n",
       "      <td>0</td>\n",
       "      <td>1</td>\n",
       "      <td>0</td>\n",
       "      <td>0</td>\n",
       "      <td>0</td>\n",
       "      <td>0</td>\n",
       "      <td>1</td>\n",
       "      <td>0</td>\n",
       "      <td>0</td>\n",
       "      <td>49.344942</td>\n",
       "      <td>0</td>\n",
       "      <td>0</td>\n",
       "    </tr>\n",
       "  </tbody>\n",
       "</table>\n",
       "</div>"
      ],
      "text/plain": [
       "   cm_dummy  gamedummy  area_kanto  area_keihan  area_tokai  area_keihanshin  \\\n",
       "0         0          0           0            0           0                1   \n",
       "1         0          0           0            1           0                0   \n",
       "2         0          0           0            1           0                0   \n",
       "3         0          0           0            1           0                0   \n",
       "4         0          0           0            1           0                0   \n",
       "\n",
       "    age  sex  marry_dummy  job_dummy1  job_dummy2  job_dummy3  job_dummy4  \\\n",
       "0  44.5    1            1           1           0           0           0   \n",
       "1  34.5    1            1           1           0           0           0   \n",
       "2  24.5    1            0           0           0           0           0   \n",
       "3  44.5    1            1           1           0           0           0   \n",
       "4  34.5    1            1           1           0           0           0   \n",
       "\n",
       "   job_dummy5  job_dummy6  job_dummy7  job_dummy8    inc  pmoney  \\\n",
       "0           0           0           0           0  249.5     0.0   \n",
       "1           0           0           0           0  800.0    12.5   \n",
       "2           0           0           1           0    0.0     2.0   \n",
       "3           0           0           0           0  800.0     2.0   \n",
       "4           0           0           0           0  749.5     4.0   \n",
       "\n",
       "   fam_str_dummy1  fam_str_dummy2  fam_str_dummy3  fam_str_dummy4  \\\n",
       "0               0               0               1               0   \n",
       "1               0               0               1               0   \n",
       "2               0               0               0               1   \n",
       "3               0               0               1               0   \n",
       "4               0               0               1               0   \n",
       "\n",
       "   fam_str_dummy5  child_dummy  T  F1  F2  F3  M1  M2  M3  TVwatch_day  \\\n",
       "0               0            1  0   0   0   0   0   1   0    33.427600   \n",
       "1               0            1  0   0   0   0   0   1   0    31.542862   \n",
       "2               0            0  0   0   0   0   1   0   0    37.825805   \n",
       "3               0            1  0   0   0   0   0   1   0    36.345911   \n",
       "4               0            1  0   0   0   0   1   0   0    49.344942   \n",
       "\n",
       "   gamesecond  gamecount  \n",
       "0           0          0  \n",
       "1           0          0  \n",
       "2           0          0  \n",
       "3           0          0  \n",
       "4           0          0  "
      ]
     },
     "execution_count": 36,
     "metadata": {},
     "output_type": "execute_result"
    }
   ],
   "source": [
    "df = pd.read_csv('q_data_x.csv')\n",
    "df.shape\n",
    "df.head()"
   ]
  },
  {
   "cell_type": "markdown",
   "metadata": {},
   "source": [
    "## 分析1：岩波DS3解説の再現"
   ]
  },
  {
   "cell_type": "code",
   "execution_count": 37,
   "metadata": {},
   "outputs": [
    {
     "data": {
      "text/plain": [
       "<matplotlib.axes._subplots.AxesSubplot at 0x7ff25d0cc668>"
      ]
     },
     "execution_count": 37,
     "metadata": {},
     "output_type": "execute_result"
    },
    {
     "data": {
      "image/png": "[encoded data removed]",
      "text/plain": [
       "<Figure size 432x288 with 1 Axes>"
      ]
     },
     "metadata": {
      "needs_background": "light"
     },
     "output_type": "display_data"
    }
   ],
   "source": [
    "pd.crosstab(df['cm_dummy'], df['gamedummy']).plot.bar(stacked=True)"
   ]
  },
  {
   "cell_type": "markdown",
   "metadata": {},
   "source": [
    "### 平均値の比較\n",
    "* アプリ利用秒数と利用回数の平均値はCM接触群の方が小さい"
   ]
  },
  {
   "cell_type": "code",
   "execution_count": 38,
   "metadata": {},
   "outputs": [
    {
     "data": {
      "text/html": [
       "<div>\n",
       "<style scoped>\n",
       "    .dataframe tbody tr th:only-of-type {\n",
       "        vertical-align: middle;\n",
       "    }\n",
       "\n",
       "    .dataframe tbody tr th {\n",
       "        vertical-align: top;\n",
       "    }\n",
       "\n",
       "    .dataframe thead th {\n",
       "        text-align: right;\n",
       "    }\n",
       "</style>\n",
       "<table border=\"1\" class=\"dataframe\">\n",
       "  <thead>\n",
       "    <tr style=\"text-align: right;\">\n",
       "      <th></th>\n",
       "      <th>gamedummy</th>\n",
       "      <th>gamecount</th>\n",
       "      <th>gamesecond</th>\n",
       "    </tr>\n",
       "    <tr>\n",
       "      <th>cm_dummy</th>\n",
       "      <th></th>\n",
       "      <th></th>\n",
       "      <th></th>\n",
       "    </tr>\n",
       "  </thead>\n",
       "  <tbody>\n",
       "    <tr>\n",
       "      <th>0</th>\n",
       "      <td>0.073087</td>\n",
       "      <td>10.048497</td>\n",
       "      <td>3107.706455</td>\n",
       "    </tr>\n",
       "    <tr>\n",
       "      <th>1</th>\n",
       "      <td>0.075290</td>\n",
       "      <td>8.563948</td>\n",
       "      <td>2478.065878</td>\n",
       "    </tr>\n",
       "  </tbody>\n",
       "</table>\n",
       "</div>"
      ],
      "text/plain": [
       "          gamedummy  gamecount   gamesecond\n",
       "cm_dummy                                   \n",
       "0          0.073087  10.048497  3107.706455\n",
       "1          0.075290   8.563948  2478.065878"
      ]
     },
     "execution_count": 38,
     "metadata": {},
     "output_type": "execute_result"
    }
   ],
   "source": [
    "agg_cols = [\n",
    "    \"gamedummy\",\n",
    "    \"gamecount\",\n",
    "    \"gamesecond\"\n",
    "]\n",
    "df.groupby(\"cm_dummy\")[agg_cols].mean()"
   ]
  },
  {
   "cell_type": "markdown",
   "metadata": {},
   "source": [
    "### セレクションバイアス\n",
    "* 居住地、性別、年齢、職業、TV試聴時間などがかなり異なる"
   ]
  },
  {
   "cell_type": "code",
   "execution_count": 39,
   "metadata": {},
   "outputs": [
    {
     "data": {
      "text/html": [
       "<div>\n",
       "<style scoped>\n",
       "    .dataframe tbody tr th:only-of-type {\n",
       "        vertical-align: middle;\n",
       "    }\n",
       "\n",
       "    .dataframe tbody tr th {\n",
       "        vertical-align: top;\n",
       "    }\n",
       "\n",
       "    .dataframe thead th {\n",
       "        text-align: right;\n",
       "    }\n",
       "</style>\n",
       "<table border=\"1\" class=\"dataframe\">\n",
       "  <thead>\n",
       "    <tr style=\"text-align: right;\">\n",
       "      <th></th>\n",
       "      <th>mean_cm_dummy_0</th>\n",
       "      <th>std_cm_dummy_0</th>\n",
       "      <th>mean_cm_dummy_1</th>\n",
       "      <th>std_cm_dummy_1</th>\n",
       "    </tr>\n",
       "  </thead>\n",
       "  <tbody>\n",
       "    <tr>\n",
       "      <th>cm_dummy</th>\n",
       "      <td>1.000000</td>\n",
       "      <td>0.000000</td>\n",
       "      <td>0.000000</td>\n",
       "      <td>0.000000</td>\n",
       "    </tr>\n",
       "    <tr>\n",
       "      <th>gamedummy</th>\n",
       "      <td>0.075290</td>\n",
       "      <td>0.263890</td>\n",
       "      <td>0.073087</td>\n",
       "      <td>0.260302</td>\n",
       "    </tr>\n",
       "    <tr>\n",
       "      <th>area_kanto</th>\n",
       "      <td>0.131033</td>\n",
       "      <td>0.337477</td>\n",
       "      <td>0.063012</td>\n",
       "      <td>0.243006</td>\n",
       "    </tr>\n",
       "    <tr>\n",
       "      <th>area_keihan</th>\n",
       "      <td>0.701255</td>\n",
       "      <td>0.457763</td>\n",
       "      <td>0.509051</td>\n",
       "      <td>0.499961</td>\n",
       "    </tr>\n",
       "    <tr>\n",
       "      <th>area_tokai</th>\n",
       "      <td>0.093147</td>\n",
       "      <td>0.290673</td>\n",
       "      <td>0.124488</td>\n",
       "      <td>0.330165</td>\n",
       "    </tr>\n",
       "    <tr>\n",
       "      <th>area_keihanshin</th>\n",
       "      <td>0.074566</td>\n",
       "      <td>0.262721</td>\n",
       "      <td>0.303449</td>\n",
       "      <td>0.459787</td>\n",
       "    </tr>\n",
       "    <tr>\n",
       "      <th>age</th>\n",
       "      <td>41.767133</td>\n",
       "      <td>10.148360</td>\n",
       "      <td>40.187158</td>\n",
       "      <td>10.636461</td>\n",
       "    </tr>\n",
       "    <tr>\n",
       "      <th>sex</th>\n",
       "      <td>0.596766</td>\n",
       "      <td>0.490606</td>\n",
       "      <td>0.671107</td>\n",
       "      <td>0.469851</td>\n",
       "    </tr>\n",
       "    <tr>\n",
       "      <th>marry_dummy</th>\n",
       "      <td>0.670367</td>\n",
       "      <td>0.470137</td>\n",
       "      <td>0.630464</td>\n",
       "      <td>0.482720</td>\n",
       "    </tr>\n",
       "    <tr>\n",
       "      <th>job_dummy1</th>\n",
       "      <td>0.517616</td>\n",
       "      <td>0.499750</td>\n",
       "      <td>0.600581</td>\n",
       "      <td>0.489821</td>\n",
       "    </tr>\n",
       "    <tr>\n",
       "      <th>job_dummy2</th>\n",
       "      <td>0.050193</td>\n",
       "      <td>0.218369</td>\n",
       "      <td>0.057036</td>\n",
       "      <td>0.231930</td>\n",
       "    </tr>\n",
       "    <tr>\n",
       "      <th>job_dummy3</th>\n",
       "      <td>0.085907</td>\n",
       "      <td>0.280261</td>\n",
       "      <td>0.068818</td>\n",
       "      <td>0.253167</td>\n",
       "    </tr>\n",
       "    <tr>\n",
       "      <th>job_dummy4</th>\n",
       "      <td>0.013514</td>\n",
       "      <td>0.115473</td>\n",
       "      <td>0.011441</td>\n",
       "      <td>0.106359</td>\n",
       "    </tr>\n",
       "    <tr>\n",
       "      <th>job_dummy5</th>\n",
       "      <td>0.155888</td>\n",
       "      <td>0.362793</td>\n",
       "      <td>0.090676</td>\n",
       "      <td>0.287173</td>\n",
       "    </tr>\n",
       "    <tr>\n",
       "      <th>job_dummy6</th>\n",
       "      <td>0.111004</td>\n",
       "      <td>0.314175</td>\n",
       "      <td>0.092042</td>\n",
       "      <td>0.289110</td>\n",
       "    </tr>\n",
       "    <tr>\n",
       "      <th>job_dummy7</th>\n",
       "      <td>0.030647</td>\n",
       "      <td>0.172379</td>\n",
       "      <td>0.046448</td>\n",
       "      <td>0.210471</td>\n",
       "    </tr>\n",
       "    <tr>\n",
       "      <th>job_dummy8</th>\n",
       "      <td>0.035232</td>\n",
       "      <td>0.184387</td>\n",
       "      <td>0.032958</td>\n",
       "      <td>0.178541</td>\n",
       "    </tr>\n",
       "    <tr>\n",
       "      <th>inc</th>\n",
       "      <td>341.697153</td>\n",
       "      <td>270.695337</td>\n",
       "      <td>369.245902</td>\n",
       "      <td>264.486960</td>\n",
       "    </tr>\n",
       "    <tr>\n",
       "      <th>pmoney</th>\n",
       "      <td>3.544305</td>\n",
       "      <td>3.402763</td>\n",
       "      <td>3.558026</td>\n",
       "      <td>3.360252</td>\n",
       "    </tr>\n",
       "    <tr>\n",
       "      <th>fam_str_dummy1</th>\n",
       "      <td>0.144546</td>\n",
       "      <td>0.351685</td>\n",
       "      <td>0.150444</td>\n",
       "      <td>0.357537</td>\n",
       "    </tr>\n",
       "    <tr>\n",
       "      <th>fam_str_dummy2</th>\n",
       "      <td>0.168436</td>\n",
       "      <td>0.374298</td>\n",
       "      <td>0.128074</td>\n",
       "      <td>0.334200</td>\n",
       "    </tr>\n",
       "    <tr>\n",
       "      <th>fam_str_dummy3</th>\n",
       "      <td>0.622346</td>\n",
       "      <td>0.484859</td>\n",
       "      <td>0.619023</td>\n",
       "      <td>0.485668</td>\n",
       "    </tr>\n",
       "    <tr>\n",
       "      <th>fam_str_dummy4</th>\n",
       "      <td>0.050676</td>\n",
       "      <td>0.219361</td>\n",
       "      <td>0.083504</td>\n",
       "      <td>0.276666</td>\n",
       "    </tr>\n",
       "    <tr>\n",
       "      <th>fam_str_dummy5</th>\n",
       "      <td>0.013996</td>\n",
       "      <td>0.117489</td>\n",
       "      <td>0.018955</td>\n",
       "      <td>0.136377</td>\n",
       "    </tr>\n",
       "    <tr>\n",
       "      <th>child_dummy</th>\n",
       "      <td>0.424469</td>\n",
       "      <td>0.494322</td>\n",
       "      <td>0.421960</td>\n",
       "      <td>0.493914</td>\n",
       "    </tr>\n",
       "    <tr>\n",
       "      <th>T</th>\n",
       "      <td>0.012790</td>\n",
       "      <td>0.112379</td>\n",
       "      <td>0.013490</td>\n",
       "      <td>0.115372</td>\n",
       "    </tr>\n",
       "    <tr>\n",
       "      <th>F1</th>\n",
       "      <td>0.112934</td>\n",
       "      <td>0.316551</td>\n",
       "      <td>0.138320</td>\n",
       "      <td>0.345265</td>\n",
       "    </tr>\n",
       "    <tr>\n",
       "      <th>F2</th>\n",
       "      <td>0.225869</td>\n",
       "      <td>0.418204</td>\n",
       "      <td>0.136100</td>\n",
       "      <td>0.342924</td>\n",
       "    </tr>\n",
       "    <tr>\n",
       "      <th>F3</th>\n",
       "      <td>0.055261</td>\n",
       "      <td>0.228516</td>\n",
       "      <td>0.050034</td>\n",
       "      <td>0.218034</td>\n",
       "    </tr>\n",
       "    <tr>\n",
       "      <th>M1</th>\n",
       "      <td>0.102799</td>\n",
       "      <td>0.303733</td>\n",
       "      <td>0.166837</td>\n",
       "      <td>0.372863</td>\n",
       "    </tr>\n",
       "    <tr>\n",
       "      <th>M2</th>\n",
       "      <td>0.310569</td>\n",
       "      <td>0.462783</td>\n",
       "      <td>0.341701</td>\n",
       "      <td>0.474320</td>\n",
       "    </tr>\n",
       "    <tr>\n",
       "      <th>M3</th>\n",
       "      <td>0.179778</td>\n",
       "      <td>0.384049</td>\n",
       "      <td>0.153518</td>\n",
       "      <td>0.360517</td>\n",
       "    </tr>\n",
       "    <tr>\n",
       "      <th>TVwatch_day</th>\n",
       "      <td>11461.881259</td>\n",
       "      <td>8851.091199</td>\n",
       "      <td>5714.982257</td>\n",
       "      <td>5690.371292</td>\n",
       "    </tr>\n",
       "    <tr>\n",
       "      <th>gamesecond</th>\n",
       "      <td>2478.065878</td>\n",
       "      <td>15564.015196</td>\n",
       "      <td>3107.706455</td>\n",
       "      <td>19496.771900</td>\n",
       "    </tr>\n",
       "    <tr>\n",
       "      <th>gamecount</th>\n",
       "      <td>8.563948</td>\n",
       "      <td>53.331477</td>\n",
       "      <td>10.048497</td>\n",
       "      <td>55.266546</td>\n",
       "    </tr>\n",
       "  </tbody>\n",
       "</table>\n",
       "</div>"
      ],
      "text/plain": [
       "                 mean_cm_dummy_0  std_cm_dummy_0  mean_cm_dummy_1  \\\n",
       "cm_dummy                1.000000        0.000000         0.000000   \n",
       "gamedummy               0.075290        0.263890         0.073087   \n",
       "area_kanto              0.131033        0.337477         0.063012   \n",
       "area_keihan             0.701255        0.457763         0.509051   \n",
       "area_tokai              0.093147        0.290673         0.124488   \n",
       "area_keihanshin         0.074566        0.262721         0.303449   \n",
       "age                    41.767133       10.148360        40.187158   \n",
       "sex                     0.596766        0.490606         0.671107   \n",
       "marry_dummy             0.670367        0.470137         0.630464   \n",
       "job_dummy1              0.517616        0.499750         0.600581   \n",
       "job_dummy2              0.050193        0.218369         0.057036   \n",
       "job_dummy3              0.085907        0.280261         0.068818   \n",
       "job_dummy4              0.013514        0.115473         0.011441   \n",
       "job_dummy5              0.155888        0.362793         0.090676   \n",
       "job_dummy6              0.111004        0.314175         0.092042   \n",
       "job_dummy7              0.030647        0.172379         0.046448   \n",
       "job_dummy8              0.035232        0.184387         0.032958   \n",
       "inc                   341.697153      270.695337       369.245902   \n",
       "pmoney                  3.544305        3.402763         3.558026   \n",
       "fam_str_dummy1          0.144546        0.351685         0.150444   \n",
       "fam_str_dummy2          0.168436        0.374298         0.128074   \n",
       "fam_str_dummy3          0.622346        0.484859         0.619023   \n",
       "fam_str_dummy4          0.050676        0.219361         0.083504   \n",
       "fam_str_dummy5          0.013996        0.117489         0.018955   \n",
       "child_dummy             0.424469        0.494322         0.421960   \n",
       "T                       0.012790        0.112379         0.013490   \n",
       "F1                      0.112934        0.316551         0.138320   \n",
       "F2                      0.225869        0.418204         0.136100   \n",
       "F3                      0.055261        0.228516         0.050034   \n",
       "M1                      0.102799        0.303733         0.166837   \n",
       "M2                      0.310569        0.462783         0.341701   \n",
       "M3                      0.179778        0.384049         0.153518   \n",
       "TVwatch_day         11461.881259     8851.091199      5714.982257   \n",
       "gamesecond           2478.065878    15564.015196      3107.706455   \n",
       "gamecount               8.563948       53.331477        10.048497   \n",
       "\n",
       "                 std_cm_dummy_1  \n",
       "cm_dummy               0.000000  \n",
       "gamedummy              0.260302  \n",
       "area_kanto             0.243006  \n",
       "area_keihan            0.499961  \n",
       "area_tokai             0.330165  \n",
       "area_keihanshin        0.459787  \n",
       "age                   10.636461  \n",
       "sex                    0.469851  \n",
       "marry_dummy            0.482720  \n",
       "job_dummy1             0.489821  \n",
       "job_dummy2             0.231930  \n",
       "job_dummy3             0.253167  \n",
       "job_dummy4             0.106359  \n",
       "job_dummy5             0.287173  \n",
       "job_dummy6             0.289110  \n",
       "job_dummy7             0.210471  \n",
       "job_dummy8             0.178541  \n",
       "inc                  264.486960  \n",
       "pmoney                 3.360252  \n",
       "fam_str_dummy1         0.357537  \n",
       "fam_str_dummy2         0.334200  \n",
       "fam_str_dummy3         0.485668  \n",
       "fam_str_dummy4         0.276666  \n",
       "fam_str_dummy5         0.136377  \n",
       "child_dummy            0.493914  \n",
       "T                      0.115372  \n",
       "F1                     0.345265  \n",
       "F2                     0.342924  \n",
       "F3                     0.218034  \n",
       "M1                     0.372863  \n",
       "M2                     0.474320  \n",
       "M3                     0.360517  \n",
       "TVwatch_day         5690.371292  \n",
       "gamesecond         19496.771900  \n",
       "gamecount             55.266546  "
      ]
     },
     "execution_count": 39,
     "metadata": {},
     "output_type": "execute_result"
    }
   ],
   "source": [
    "pd.merge(df[df.cm_dummy==1].describe().T[['mean','std']],\n",
    "         df[df.cm_dummy==0].describe().T[['mean','std']],\n",
    "         left_index=True,\n",
    "         right_index=True, \n",
    "         how='left',\n",
    "         suffixes=['_cm_dummy_0', '_cm_dummy_1'])"
   ]
  },
  {
   "cell_type": "code",
   "execution_count": 40,
   "metadata": {},
   "outputs": [
    {
     "data": {
      "text/plain": [
       "cm_dummy\n",
       "0    AxesSubplot(0.125,0.125;0.775x0.755)\n",
       "1    AxesSubplot(0.125,0.125;0.775x0.755)\n",
       "Name: TVwatch_day, dtype: object"
      ]
     },
     "execution_count": 40,
     "metadata": {},
     "output_type": "execute_result"
    },
    {
     "data": {
      "image/png": "[encoded data removed]",
      "text/plain": [
       "<Figure size 432x288 with 1 Axes>"
      ]
     },
     "metadata": {
      "needs_background": "light"
     },
     "output_type": "display_data"
    }
   ],
   "source": [
    "df.groupby('cm_dummy')['TVwatch_day'].plot.hist(bins=50, alpha=0.5, legend=True)"
   ]
  },
  {
   "cell_type": "markdown",
   "metadata": {},
   "source": [
    "### 平均処置効果の推定\n",
    "* 平均処置効果：ATE(Average Treatment Effect)\n",
    "* 処置群での平均処置効果：ATT(Average Treatment effect on the Treated)"
   ]
  },
  {
   "cell_type": "code",
   "execution_count": 41,
   "metadata": {},
   "outputs": [],
   "source": [
    "import statsmodels.api as sm\n",
    "from statsmodels.tools import add_constant"
   ]
  },
  {
   "cell_type": "code",
   "execution_count": 42,
   "metadata": {},
   "outputs": [],
   "source": [
    "x_cols=[\n",
    "    'TVwatch_day',\n",
    "    'age',\n",
    "    'sex',\n",
    "    'marry_dummy',\n",
    "    'child_dummy',\n",
    "    'inc',\n",
    "    'pmoney',\n",
    "    'area_kanto',\n",
    "    'area_tokai',\n",
    "    'area_keihanshin',\n",
    "    'job_dummy1',\n",
    "    'job_dummy2',\n",
    "    'job_dummy3',\n",
    "    'job_dummy4',\n",
    "    'job_dummy5',\n",
    "    'job_dummy6',\n",
    "    'job_dummy7',\n",
    "    'fam_str_dummy1',\n",
    "    'fam_str_dummy2',\n",
    "    'fam_str_dummy3',\n",
    "    'fam_str_dummy4',\n",
    "    #'T',\n",
    "    #'F1',\n",
    "    #'F2',\n",
    "    #'F3',\n",
    "    #'M1',\n",
    "    #'M2',\n",
    "    #'M3',\n",
    "]"
   ]
  },
  {
   "cell_type": "code",
   "execution_count": 43,
   "metadata": {},
   "outputs": [
    {
     "name": "stdout",
     "output_type": "stream",
     "text": [
      "Optimization terminated successfully.\n",
      "         Current function value: 0.542117\n",
      "         Iterations 6\n"
     ]
    },
    {
     "data": {
      "text/html": [
       "<table class=\"simpletable\">\n",
       "<tr>\n",
       "        <td>Model:</td>              <td>Logit</td>      <td>Pseudo R-squared:</td>    <td>0.201</td>  \n",
       "</tr>\n",
       "<tr>\n",
       "  <td>Dependent Variable:</td>     <td>cm_dummy</td>           <td>AIC:</td>        <td>10886.3417</td>\n",
       "</tr>\n",
       "<tr>\n",
       "         <td>Date:</td>        <td>2019-11-14 16:21</td>       <td>BIC:</td>        <td>11044.9692</td>\n",
       "</tr>\n",
       "<tr>\n",
       "   <td>No. Observations:</td>        <td>10000</td>       <td>Log-Likelihood:</td>    <td>-5421.2</td> \n",
       "</tr>\n",
       "<tr>\n",
       "       <td>Df Model:</td>             <td>21</td>            <td>LL-Null:</td>        <td>-6784.2</td> \n",
       "</tr>\n",
       "<tr>\n",
       "     <td>Df Residuals:</td>          <td>9978</td>         <td>LLR p-value:</td>      <td>0.0000</td>  \n",
       "</tr>\n",
       "<tr>\n",
       "      <td>Converged:</td>           <td>1.0000</td>           <td>Scale:</td>         <td>1.0000</td>  \n",
       "</tr>\n",
       "<tr>\n",
       "    <td>No. Iterations:</td>        <td>6.0000</td>              <td></td>               <td></td>     \n",
       "</tr>\n",
       "</table>\n",
       "<table class=\"simpletable\">\n",
       "<tr>\n",
       "         <td></td>          <th>Coef.</th>  <th>Std.Err.</th>     <th>z</th>     <th>P>|z|</th> <th>[0.025</th>  <th>0.975]</th> \n",
       "</tr>\n",
       "<tr>\n",
       "  <th>const</th>           <td>-1.7709</td>  <td>0.2615</td>   <td>-6.7728</td> <td>0.0000</td> <td>-2.2833</td> <td>-1.2584</td>\n",
       "</tr>\n",
       "<tr>\n",
       "  <th>TVwatch_day</th>     <td>0.0001</td>   <td>0.0000</td>   <td>31.9917</td> <td>0.0000</td> <td>0.0001</td>  <td>0.0001</td> \n",
       "</tr>\n",
       "<tr>\n",
       "  <th>age</th>             <td>-0.0026</td>  <td>0.0029</td>   <td>-0.8871</td> <td>0.3750</td> <td>-0.0084</td> <td>0.0032</td> \n",
       "</tr>\n",
       "<tr>\n",
       "  <th>sex</th>             <td>0.0006</td>   <td>0.0647</td>   <td>0.0092</td>  <td>0.9927</td> <td>-0.1262</td> <td>0.1273</td> \n",
       "</tr>\n",
       "<tr>\n",
       "  <th>marry_dummy</th>     <td>-0.0781</td>  <td>0.0856</td>   <td>-0.9134</td> <td>0.3610</td> <td>-0.2458</td> <td>0.0895</td> \n",
       "</tr>\n",
       "<tr>\n",
       "  <th>child_dummy</th>     <td>0.3142</td>   <td>0.0743</td>   <td>4.2269</td>  <td>0.0000</td> <td>0.1685</td>  <td>0.4599</td> \n",
       "</tr>\n",
       "<tr>\n",
       "  <th>inc</th>             <td>-0.0005</td>  <td>0.0002</td>   <td>-2.9190</td> <td>0.0035</td> <td>-0.0008</td> <td>-0.0002</td>\n",
       "</tr>\n",
       "<tr>\n",
       "  <th>pmoney</th>          <td>0.0119</td>   <td>0.0077</td>   <td>1.5434</td>  <td>0.1227</td> <td>-0.0032</td> <td>0.0271</td> \n",
       "</tr>\n",
       "<tr>\n",
       "  <th>area_kanto</th>      <td>0.4050</td>   <td>0.0790</td>   <td>5.1239</td>  <td>0.0000</td> <td>0.2501</td>  <td>0.5599</td> \n",
       "</tr>\n",
       "<tr>\n",
       "  <th>area_tokai</th>      <td>-0.7233</td>  <td>0.0765</td>   <td>-9.4490</td> <td>0.0000</td> <td>-0.8733</td> <td>-0.5732</td>\n",
       "</tr>\n",
       "<tr>\n",
       "  <th>area_keihanshin</th> <td>-2.0420</td>  <td>0.0756</td>  <td>-27.0074</td> <td>0.0000</td> <td>-2.1902</td> <td>-1.8938</td>\n",
       "</tr>\n",
       "<tr>\n",
       "  <th>job_dummy1</th>      <td>0.1752</td>   <td>0.1562</td>   <td>1.1219</td>  <td>0.2619</td> <td>-0.1309</td> <td>0.4814</td> \n",
       "</tr>\n",
       "<tr>\n",
       "  <th>job_dummy2</th>      <td>0.1651</td>   <td>0.1677</td>   <td>0.9842</td>  <td>0.3250</td> <td>-0.1637</td> <td>0.4938</td> \n",
       "</tr>\n",
       "<tr>\n",
       "  <th>job_dummy3</th>      <td>0.5399</td>   <td>0.1604</td>   <td>3.3659</td>  <td>0.0008</td> <td>0.2255</td>  <td>0.8543</td> \n",
       "</tr>\n",
       "<tr>\n",
       "  <th>job_dummy4</th>      <td>0.3604</td>   <td>0.2433</td>   <td>1.4811</td>  <td>0.1386</td> <td>-0.1165</td> <td>0.8372</td> \n",
       "</tr>\n",
       "<tr>\n",
       "  <th>job_dummy5</th>      <td>0.6414</td>   <td>0.1520</td>   <td>4.2193</td>  <td>0.0000</td> <td>0.3435</td>  <td>0.9393</td> \n",
       "</tr>\n",
       "<tr>\n",
       "  <th>job_dummy6</th>      <td>0.2848</td>   <td>0.1581</td>   <td>1.8010</td>  <td>0.0717</td> <td>-0.0251</td> <td>0.5947</td> \n",
       "</tr>\n",
       "<tr>\n",
       "  <th>job_dummy7</th>      <td>0.1540</td>   <td>0.1834</td>   <td>0.8394</td>  <td>0.4013</td> <td>-0.2056</td> <td>0.5135</td> \n",
       "</tr>\n",
       "<tr>\n",
       "  <th>fam_str_dummy1</th>  <td>0.7640</td>   <td>0.2045</td>   <td>3.7359</td>  <td>0.0002</td> <td>0.3632</td>  <td>1.1648</td> \n",
       "</tr>\n",
       "<tr>\n",
       "  <th>fam_str_dummy2</th>  <td>1.0033</td>   <td>0.2176</td>   <td>4.6118</td>  <td>0.0000</td> <td>0.5769</td>  <td>1.4297</td> \n",
       "</tr>\n",
       "<tr>\n",
       "  <th>fam_str_dummy3</th>  <td>0.6137</td>   <td>0.2021</td>   <td>3.0373</td>  <td>0.0024</td> <td>0.2177</td>  <td>1.0098</td> \n",
       "</tr>\n",
       "<tr>\n",
       "  <th>fam_str_dummy4</th>  <td>0.1799</td>   <td>0.2216</td>   <td>0.8121</td>  <td>0.4167</td> <td>-0.2543</td> <td>0.6142</td> \n",
       "</tr>\n",
       "</table>"
      ],
      "text/plain": [
       "<class 'statsmodels.iolib.summary2.Summary'>\n",
       "\"\"\"\n",
       "                         Results: Logit\n",
       "=================================================================\n",
       "Model:              Logit            Pseudo R-squared: 0.201     \n",
       "Dependent Variable: cm_dummy         AIC:              10886.3417\n",
       "Date:               2019-11-14 16:21 BIC:              11044.9692\n",
       "No. Observations:   10000            Log-Likelihood:   -5421.2   \n",
       "Df Model:           21               LL-Null:          -6784.2   \n",
       "Df Residuals:       9978             LLR p-value:      0.0000    \n",
       "Converged:          1.0000           Scale:            1.0000    \n",
       "No. Iterations:     6.0000                                       \n",
       "-----------------------------------------------------------------\n",
       "                  Coef.  Std.Err.    z     P>|z|   [0.025  0.975]\n",
       "-----------------------------------------------------------------\n",
       "const            -1.7709   0.2615  -6.7728 0.0000 -2.2833 -1.2584\n",
       "TVwatch_day       0.0001   0.0000  31.9917 0.0000  0.0001  0.0001\n",
       "age              -0.0026   0.0029  -0.8871 0.3750 -0.0084  0.0032\n",
       "sex               0.0006   0.0647   0.0092 0.9927 -0.1262  0.1273\n",
       "marry_dummy      -0.0781   0.0856  -0.9134 0.3610 -0.2458  0.0895\n",
       "child_dummy       0.3142   0.0743   4.2269 0.0000  0.1685  0.4599\n",
       "inc              -0.0005   0.0002  -2.9190 0.0035 -0.0008 -0.0002\n",
       "pmoney            0.0119   0.0077   1.5434 0.1227 -0.0032  0.0271\n",
       "area_kanto        0.4050   0.0790   5.1239 0.0000  0.2501  0.5599\n",
       "area_tokai       -0.7233   0.0765  -9.4490 0.0000 -0.8733 -0.5732\n",
       "area_keihanshin  -2.0420   0.0756 -27.0074 0.0000 -2.1902 -1.8938\n",
       "job_dummy1        0.1752   0.1562   1.1219 0.2619 -0.1309  0.4814\n",
       "job_dummy2        0.1651   0.1677   0.9842 0.3250 -0.1637  0.4938\n",
       "job_dummy3        0.5399   0.1604   3.3659 0.0008  0.2255  0.8543\n",
       "job_dummy4        0.3604   0.2433   1.4811 0.1386 -0.1165  0.8372\n",
       "job_dummy5        0.6414   0.1520   4.2193 0.0000  0.3435  0.9393\n",
       "job_dummy6        0.2848   0.1581   1.8010 0.0717 -0.0251  0.5947\n",
       "job_dummy7        0.1540   0.1834   0.8394 0.4013 -0.2056  0.5135\n",
       "fam_str_dummy1    0.7640   0.2045   3.7359 0.0002  0.3632  1.1648\n",
       "fam_str_dummy2    1.0033   0.2176   4.6118 0.0000  0.5769  1.4297\n",
       "fam_str_dummy3    0.6137   0.2021   3.0373 0.0024  0.2177  1.0098\n",
       "fam_str_dummy4    0.1799   0.2216   0.8121 0.4167 -0.2543  0.6142\n",
       "=================================================================\n",
       "\n",
       "\"\"\""
      ]
     },
     "execution_count": 43,
     "metadata": {},
     "output_type": "execute_result"
    }
   ],
   "source": [
    "ps_model = sm.Logit(df.cm_dummy, add_constant(df[x_cols])).fit()\n",
    "ps_model.summary2()"
   ]
  },
  {
   "cell_type": "code",
   "execution_count": 44,
   "metadata": {},
   "outputs": [
    {
     "data": {
      "text/plain": [
       "count    10000.000000\n",
       "mean         0.414400\n",
       "std          0.243460\n",
       "min          0.020762\n",
       "25%          0.247706\n",
       "50%          0.373040\n",
       "75%          0.563423\n",
       "max          0.998033\n",
       "Name: ps, dtype: float64"
      ]
     },
     "execution_count": 44,
     "metadata": {},
     "output_type": "execute_result"
    }
   ],
   "source": [
    "# モデルの予測値の確認\n",
    "df['ps'] = ps_model.predict(add_constant(df[x_cols]))\n",
    "df['ps'].describe()"
   ]
  },
  {
   "cell_type": "code",
   "execution_count": 45,
   "metadata": {},
   "outputs": [
    {
     "data": {
      "text/plain": [
       "0.7917028470947529"
      ]
     },
     "execution_count": 45,
     "metadata": {},
     "output_type": "execute_result"
    }
   ],
   "source": [
    "from sklearn.metrics import roc_auc_score\n",
    "roc_auc_score(df.cm_dummy, df.ps)"
   ]
  },
  {
   "cell_type": "code",
   "execution_count": 46,
   "metadata": {},
   "outputs": [],
   "source": [
    "#★\n",
    "#傾向スコアの逆数の重み\n",
    "df['ipw_ate'] = np.where(df.cm_dummy==1,\n",
    "                         1 / df.ps,\n",
    "                         1 / (1 - df.ps))\n",
    "df['ipw_att'] = np.where(df.cm_dummy==1,\n",
    "                         1,\n",
    "                         df.ps / (1 - df.ps))\n",
    "ate_models = [\n",
    "    sm.WLS(df.gamedummy, pd.get_dummies(df.cm_dummy), weights=df.ipw_ate).fit(),\n",
    "    sm.WLS(df.gamecount, pd.get_dummies(df.cm_dummy), weights=df.ipw_ate).fit(),\n",
    "    sm.WLS(df.gamesecond, pd.get_dummies(df.cm_dummy), weights=df.ipw_ate).fit()\n",
    "]\n",
    "att_models = [\n",
    "    sm.WLS(df.gamedummy, pd.get_dummies(df.cm_dummy), weights=df.ipw_att).fit(),\n",
    "    sm.WLS(df.gamecount, pd.get_dummies(df.cm_dummy), weights=df.ipw_att).fit(),\n",
    "    sm.WLS(df.gamesecond, pd.get_dummies(df.cm_dummy), weights=df.ipw_att).fit()\n",
    "]                         "
   ]
  },
  {
   "cell_type": "raw",
   "metadata": {},
   "source": [
    "w1 = df.cm_dummy / df.ps\n",
    "w0 = (1 - df.cm_dummy) / (1 - df.ps)\n",
    "w = w1 / (w1.sum() / df.cm_dummy.sum()) + w0 / (w0.sum() / (1-df.cm_dummy).sum())\n",
    "\n",
    "ate_models = [\n",
    "    sm.WLS(df.gamedummy, pd.get_dummies(df.cm_dummy), weights=w).fit(),\n",
    "    sm.WLS(df.gamecount, pd.get_dummies(df.cm_dummy), weights=w).fit(),\n",
    "    sm.WLS(df.gamesecond, pd.get_dummies(df.cm_dummy), weights=w).fit()\n",
    "]\n",
    "att_models = [\n",
    "    sm.WLS(df.gamedummy, pd.get_dummies(df.cm_dummy), weights=w * df.ps).fit(),\n",
    "    sm.WLS(df.gamecount, pd.get_dummies(df.cm_dummy), weights=w * df.ps).fit(),\n",
    "    sm.WLS(df.gamesecond, pd.get_dummies(df.cm_dummy), weights=w * df.ps).fit()\n",
    "]"
   ]
  },
  {
   "cell_type": "raw",
   "metadata": {},
   "source": [
    "for model in (ate_models + att_models):\n",
    "    print(model.summary2())"
   ]
  },
  {
   "cell_type": "code",
   "execution_count": 47,
   "metadata": {},
   "outputs": [
    {
     "data": {
      "text/html": [
       "<div>\n",
       "<style scoped>\n",
       "    .dataframe tbody tr th:only-of-type {\n",
       "        vertical-align: middle;\n",
       "    }\n",
       "\n",
       "    .dataframe tbody tr th {\n",
       "        vertical-align: top;\n",
       "    }\n",
       "\n",
       "    .dataframe thead th {\n",
       "        text-align: right;\n",
       "    }\n",
       "</style>\n",
       "<table border=\"1\" class=\"dataframe\">\n",
       "  <thead>\n",
       "    <tr style=\"text-align: right;\">\n",
       "      <th></th>\n",
       "      <th>cm_dummy_1</th>\n",
       "      <th>cm_dummy_0</th>\n",
       "      <th>causal_effect</th>\n",
       "    </tr>\n",
       "  </thead>\n",
       "  <tbody>\n",
       "    <tr>\n",
       "      <th>ATE_gamedummy</th>\n",
       "      <td>0.0943644</td>\n",
       "      <td>0.0624071</td>\n",
       "      <td>0.0319572</td>\n",
       "    </tr>\n",
       "    <tr>\n",
       "      <th>ATE_gamecount</th>\n",
       "      <td>13.6364</td>\n",
       "      <td>8.31669</td>\n",
       "      <td>5.31967</td>\n",
       "    </tr>\n",
       "    <tr>\n",
       "      <th>ATE_gamesecond</th>\n",
       "      <td>4143.33</td>\n",
       "      <td>2639.41</td>\n",
       "      <td>1503.92</td>\n",
       "    </tr>\n",
       "    <tr>\n",
       "      <th>ATT_gamedummy</th>\n",
       "      <td>0.0752896</td>\n",
       "      <td>0.0496548</td>\n",
       "      <td>0.0256348</td>\n",
       "    </tr>\n",
       "    <tr>\n",
       "      <th>ATT_gamecount</th>\n",
       "      <td>8.56395</td>\n",
       "      <td>6.2489</td>\n",
       "      <td>2.31505</td>\n",
       "    </tr>\n",
       "    <tr>\n",
       "      <th>ATT_gamesecond</th>\n",
       "      <td>2478.07</td>\n",
       "      <td>2080.27</td>\n",
       "      <td>397.8</td>\n",
       "    </tr>\n",
       "  </tbody>\n",
       "</table>\n",
       "</div>"
      ],
      "text/plain": [
       "               cm_dummy_1 cm_dummy_0 causal_effect\n",
       "ATE_gamedummy   0.0943644  0.0624071     0.0319572\n",
       "ATE_gamecount     13.6364    8.31669       5.31967\n",
       "ATE_gamesecond    4143.33    2639.41       1503.92\n",
       "ATT_gamedummy   0.0752896  0.0496548     0.0256348\n",
       "ATT_gamecount     8.56395     6.2489       2.31505\n",
       "ATT_gamesecond    2478.07    2080.27         397.8"
      ]
     },
     "execution_count": 47,
     "metadata": {},
     "output_type": "execute_result"
    }
   ],
   "source": [
    "df_result = pd.DataFrame(index=[\n",
    "    'ATE_gamedummy', 'ATE_gamecount', 'ATE_gamesecond',\n",
    "    'ATT_gamedummy', 'ATT_gamecount', 'ATT_gamesecond'\n",
    "],columns=[\n",
    "    'cm_dummy_1', 'cm_dummy_0', 'causal_effect'\n",
    "])\n",
    "for (i, model) in enumerate(ate_models + att_models):\n",
    "    df_result.iloc[i, 0] = model.params[1]\n",
    "    df_result.iloc[i, 1] = model.params[0]\n",
    "df_result.causal_effect = df_result.cm_dummy_1 - df_result.cm_dummy_0\n",
    "df_result"
   ]
  },
  {
   "cell_type": "code",
   "execution_count": 48,
   "metadata": {},
   "outputs": [
    {
     "name": "stdout",
     "output_type": "stream",
     "text": [
      "ATE:0.0320\n",
      "ATT:0.0256\n"
     ]
    }
   ],
   "source": [
    "#ATE\n",
    "w1 = df.cm_dummy / df.ps\n",
    "w0 = (1 - df.cm_dummy) / (1 - df.ps)\n",
    "ate_value = (w1 * df['gamedummy']).sum() / w1.sum() - (w0 * df['gamedummy']).sum() / w0.sum()\n",
    "print(f'ATE:{ate_value:.4f}')\n",
    "#ATT\n",
    "att_value = (df['cm_dummy']*df['gamedummy']).sum() / df['cm_dummy'].sum() - (w0*df.ps*df['gamedummy']).sum() / (w0*df.ps).sum()\n",
    "print(f'ATT:{att_value:.4f}')"
   ]
  },
  {
   "cell_type": "markdown",
   "metadata": {},
   "source": [
    "### 調整効果の推定\n",
    "* 飛ばす"
   ]
  },
  {
   "cell_type": "markdown",
   "metadata": {},
   "source": [
    "## 分析2：本に載っていないことを試す"
   ]
  },
  {
   "cell_type": "markdown",
   "metadata": {},
   "source": [
    "### 傾向スコアによる層別解析"
   ]
  },
  {
   "cell_type": "code",
   "execution_count": 49,
   "metadata": {},
   "outputs": [
    {
     "data": {
      "text/html": [
       "<div>\n",
       "<style scoped>\n",
       "    .dataframe tbody tr th:only-of-type {\n",
       "        vertical-align: middle;\n",
       "    }\n",
       "\n",
       "    .dataframe tbody tr th {\n",
       "        vertical-align: top;\n",
       "    }\n",
       "\n",
       "    .dataframe thead th {\n",
       "        text-align: right;\n",
       "    }\n",
       "</style>\n",
       "<table border=\"1\" class=\"dataframe\">\n",
       "  <thead>\n",
       "    <tr style=\"text-align: right;\">\n",
       "      <th></th>\n",
       "      <th>gamedummy</th>\n",
       "      <th>gamecount</th>\n",
       "      <th>gamesecond</th>\n",
       "    </tr>\n",
       "  </thead>\n",
       "  <tbody>\n",
       "    <tr>\n",
       "      <th>ate_5</th>\n",
       "      <td>0.0218066</td>\n",
       "      <td>1.4988</td>\n",
       "      <td>68.2629</td>\n",
       "    </tr>\n",
       "    <tr>\n",
       "      <th>ate_10</th>\n",
       "      <td>0.0303475</td>\n",
       "      <td>4.56372</td>\n",
       "      <td>1317.08</td>\n",
       "    </tr>\n",
       "    <tr>\n",
       "      <th>ate_20</th>\n",
       "      <td>0.0556413</td>\n",
       "      <td>16.0481</td>\n",
       "      <td>5482.29</td>\n",
       "    </tr>\n",
       "  </tbody>\n",
       "</table>\n",
       "</div>"
      ],
      "text/plain": [
       "        gamedummy gamecount gamesecond\n",
       "ate_5   0.0218066    1.4988    68.2629\n",
       "ate_10  0.0303475   4.56372    1317.08\n",
       "ate_20  0.0556413   16.0481    5482.29"
      ]
     },
     "execution_count": 49,
     "metadata": {},
     "output_type": "execute_result"
    }
   ],
   "source": [
    "y_list = ['gamedummy', 'gamecount', 'gamesecond']\n",
    "strata_list = [5, 10, 20]\n",
    "df_strata = pd.DataFrame(index=['ate_'+str(i) for i in strata_list],\n",
    "                         columns=y_list)\n",
    "\n",
    "for y in y_list:\n",
    "    for strata in strata_list:\n",
    "        col_name = 'strata' + str(strata)\n",
    "        df[col_name] = pd.qcut(df.ps, strata)\n",
    "        df_agg = pd.pivot_table(df, values=y, index=col_name,\n",
    "                                columns='cm_dummy', aggfunc='mean')\n",
    "        df_strata.loc['ate_'+str(strata), y] \\\n",
    "            = (df_agg[1] - df_agg[0]).mean()\n",
    "df_strata"
   ]
  },
  {
   "cell_type": "markdown",
   "metadata": {},
   "source": [
    "* 層別解析とサブグループ解析は異なる\n",
    "* 層別解析では、最終的に各層での結果を統合する\n",
    "> http://triadsou.hatenablog.com/entry/20070719/1239383308"
   ]
  },
  {
   "cell_type": "markdown",
   "metadata": {},
   "source": [
    "### 傾向スコアによるマッチング\n",
    "* 飛ばす\n",
    "* Pythonだとマッチング難しそう"
   ]
  },
  {
   "cell_type": "markdown",
   "metadata": {},
   "source": [
    "### 傾向スコアによるカーネルマッチング\n",
    "* 飛ばす\n",
    "* Pythonだとマッチング難しそう"
   ]
  },
  {
   "cell_type": "markdown",
   "metadata": {},
   "source": [
    "### 傾向スコアをロジスティック回帰以外の方法で推定する\n",
    "* 飛ばす"
   ]
  },
  {
   "cell_type": "markdown",
   "metadata": {},
   "source": [
    "## CausalInference Package"
   ]
  },
  {
   "cell_type": "markdown",
   "metadata": {},
   "source": [
    "* [PyPl Link](https://pypi.org/project/CausalInference/)\n",
    "* [Overview PDF](https://github.com/laurencium/causalinference/blob/master/docs/tex/vignette.pdf)"
   ]
  },
  {
   "cell_type": "markdown",
   "metadata": {},
   "source": [
    "### Initialization"
   ]
  },
  {
   "cell_type": "code",
   "execution_count": 50,
   "metadata": {},
   "outputs": [
    {
     "name": "stdout",
     "output_type": "stream",
     "text": [
      "Requirement already satisfied: causalinference in /home/nbuser/anaconda3_501/lib/python3.6/site-packages (0.1.2)\r\n"
     ]
    }
   ],
   "source": [
    "!pip install causalinference"
   ]
  },
  {
   "cell_type": "code",
   "execution_count": 51,
   "metadata": {},
   "outputs": [],
   "source": [
    "from causalinference import CausalModel"
   ]
  },
  {
   "cell_type": "code",
   "execution_count": 52,
   "metadata": {},
   "outputs": [],
   "source": [
    "causal = CausalModel(df.gamedummy.values,\n",
    "                     df.cm_dummy.values,\n",
    "                     df[x_cols].values)"
   ]
  },
  {
   "cell_type": "code",
   "execution_count": 53,
   "metadata": {},
   "outputs": [],
   "source": [
    "#causal.reset()"
   ]
  },
  {
   "cell_type": "markdown",
   "metadata": {},
   "source": [
    "### Summary Statistics"
   ]
  },
  {
   "cell_type": "code",
   "execution_count": 54,
   "metadata": {},
   "outputs": [
    {
     "name": "stdout",
     "output_type": "stream",
     "text": [
      "\n",
      "Summary Statistics\n",
      "\n",
      "                      Controls (N_c=5856)        Treated (N_t=4144)             \n",
      "       Variable         Mean         S.d.         Mean         S.d.     Raw-diff\n",
      "--------------------------------------------------------------------------------\n",
      "              Y        0.073        0.260        0.075        0.264        0.002\n",
      "\n",
      "                      Controls (N_c=5856)        Treated (N_t=4144)             \n",
      "       Variable         Mean         S.d.         Mean         S.d.     Nor-diff\n",
      "--------------------------------------------------------------------------------\n",
      "             X0     5714.982     5690.371    11461.881     8851.091        0.772\n",
      "             X1       40.187       10.636       41.767       10.148        0.152\n",
      "             X2        0.671        0.470        0.597        0.491       -0.155\n",
      "             X3        0.630        0.483        0.670        0.470        0.084\n",
      "             X4        0.422        0.494        0.424        0.494        0.005\n",
      "             X5      369.246      264.487      341.697      270.695       -0.103\n",
      "             X6        3.558        3.360        3.544        3.403       -0.004\n",
      "             X7        0.063        0.243        0.131        0.337        0.231\n",
      "             X8        0.124        0.330        0.093        0.291       -0.101\n",
      "             X9        0.303        0.460        0.075        0.263       -0.611\n",
      "            X10        0.601        0.490        0.518        0.500       -0.168\n",
      "            X11        0.057        0.232        0.050        0.218       -0.030\n",
      "            X12        0.069        0.253        0.086        0.280        0.064\n",
      "            X13        0.011        0.106        0.014        0.115        0.019\n",
      "            X14        0.091        0.287        0.156        0.363        0.199\n",
      "            X15        0.092        0.289        0.111        0.314        0.063\n",
      "            X16        0.046        0.210        0.031        0.172       -0.082\n",
      "            X17        0.150        0.358        0.145        0.352       -0.017\n",
      "            X18        0.128        0.334        0.168        0.374        0.114\n",
      "            X19        0.619        0.486        0.622        0.485        0.007\n",
      "            X20        0.084        0.277        0.051        0.219       -0.131\n",
      "\n"
     ]
    }
   ],
   "source": [
    "print(causal.summary_stats)"
   ]
  },
  {
   "cell_type": "markdown",
   "metadata": {},
   "source": [
    "* 各内容にアクセスできる"
   ]
  },
  {
   "cell_type": "code",
   "execution_count": 55,
   "metadata": {},
   "outputs": [
    {
     "data": {
      "text/plain": [
       "dict_keys(['N', 'K', 'N_c', 'N_t', 'Y_c_mean', 'Y_t_mean', 'Y_c_sd', 'Y_t_sd', 'rdiff', 'X_c_mean', 'X_t_mean', 'X_c_sd', 'X_t_sd', 'ndiff'])"
      ]
     },
     "execution_count": 55,
     "metadata": {},
     "output_type": "execute_result"
    }
   ],
   "source": [
    "# key一覧\n",
    "causal.summary_stats.keys()"
   ]
  },
  {
   "cell_type": "code",
   "execution_count": 56,
   "metadata": {},
   "outputs": [
    {
     "data": {
      "text/plain": [
       "array([1.14618813e+04, 4.17671332e+01, 5.96766409e-01, 6.70366795e-01,\n",
       "       4.24469112e-01, 3.41697153e+02, 3.54430502e+00, 1.31032819e-01,\n",
       "       9.31467181e-02, 7.45656371e-02, 5.17615830e-01, 5.01930502e-02,\n",
       "       8.59073359e-02, 1.35135135e-02, 1.55888031e-01, 1.11003861e-01,\n",
       "       3.06467181e-02, 1.44546332e-01, 1.68436293e-01, 6.22345560e-01,\n",
       "       5.06756757e-02])"
      ]
     },
     "execution_count": 56,
     "metadata": {},
     "output_type": "execute_result"
    }
   ],
   "source": [
    "# 処置群（T）の共変量（X）の平均（mean）\n",
    "causal.summary_stats['X_t_mean']"
   ]
  },
  {
   "cell_type": "markdown",
   "metadata": {},
   "source": [
    "### Least Squares Estimation"
   ]
  },
  {
   "cell_type": "markdown",
   "metadata": {},
   "source": [
    "* 回帰分析での因果効果が簡単に推論できる"
   ]
  },
  {
   "cell_type": "code",
   "execution_count": 57,
   "metadata": {},
   "outputs": [
    {
     "name": "stdout",
     "output_type": "stream",
     "text": [
      "\n",
      "Treatment Effect Estimates: OLS\n",
      "\n",
      "                     Est.       S.e.          z      P>|z|      [95% Conf. int.]\n",
      "--------------------------------------------------------------------------------\n",
      "           ATE      0.012      0.006      1.914      0.056     -0.000      0.024\n",
      "           ATC      0.013      0.008      1.727      0.084     -0.002      0.028\n",
      "           ATT      0.011      0.006      1.708      0.088     -0.002      0.023\n",
      "\n"
     ]
    },
    {
     "name": "stderr",
     "output_type": "stream",
     "text": [
      "/home/nbuser/anaconda3_501/lib/python3.6/site-packages/causalinference/estimators/ols.py:21: FutureWarning: `rcond` parameter will change to the default of machine precision times ``max(M, N)`` where M and N are the input matrix dimensions.\n",
      "To use the future default and silence this warning we advise to pass `rcond=None`, to keep using the old, explicitly pass `rcond=-1`.\n",
      "  olscoef = np.linalg.lstsq(Z, Y)[0]\n"
     ]
    }
   ],
   "source": [
    "causal.est_via_ols()\n",
    "print(causal.estimates)"
   ]
  },
  {
   "cell_type": "markdown",
   "metadata": {},
   "source": [
    "### Propensity Score Estimation"
   ]
  },
  {
   "cell_type": "markdown",
   "metadata": {},
   "source": [
    "* 傾向スコア（ロジスティック回帰）の推定が簡単にできる"
   ]
  },
  {
   "cell_type": "code",
   "execution_count": 58,
   "metadata": {},
   "outputs": [
    {
     "name": "stdout",
     "output_type": "stream",
     "text": [
      "\n",
      "Estimated Parameters of Propensity Score\n",
      "\n",
      "                    Coef.       S.e.          z      P>|z|      [95% Conf. int.]\n",
      "--------------------------------------------------------------------------------\n",
      "     Intercept     -1.771      0.261     -6.773      0.000     -2.283     -1.258\n",
      "            X0      0.000      0.000     31.992      0.000      0.000      0.000\n",
      "            X1     -0.003      0.003     -0.887      0.375     -0.008      0.003\n",
      "            X2      0.001      0.065      0.009      0.993     -0.126      0.127\n",
      "            X3     -0.078      0.086     -0.913      0.361     -0.246      0.090\n",
      "            X4      0.314      0.074      4.227      0.000      0.169      0.460\n",
      "            X5     -0.000      0.000     -2.919      0.004     -0.001     -0.000\n",
      "            X6      0.012      0.008      1.543      0.123     -0.003      0.027\n",
      "            X7      0.405      0.079      5.124      0.000      0.250      0.560\n",
      "            X8     -0.723      0.077     -9.449      0.000     -0.873     -0.573\n",
      "            X9     -2.042      0.076    -27.007      0.000     -2.190     -1.894\n",
      "           X10      0.175      0.156      1.122      0.262     -0.131      0.481\n",
      "           X11      0.165      0.168      0.984      0.325     -0.164      0.494\n",
      "           X12      0.540      0.160      3.366      0.001      0.226      0.854\n",
      "           X13      0.360      0.243      1.481      0.139     -0.117      0.837\n",
      "           X14      0.641      0.152      4.219      0.000      0.343      0.939\n",
      "           X15      0.285      0.158      1.801      0.072     -0.025      0.595\n",
      "           X16      0.154      0.183      0.839      0.401     -0.206      0.513\n",
      "           X17      0.764      0.205      3.736      0.000      0.363      1.165\n",
      "           X18      1.003      0.218      4.612      0.000      0.577      1.430\n",
      "           X19      0.614      0.202      3.037      0.002      0.218      1.010\n",
      "           X20      0.180      0.222      0.812      0.417     -0.254      0.614\n",
      "\n"
     ]
    }
   ],
   "source": [
    "#causal.est_propensity_s()\n",
    "causal.est_propensity()\n",
    "print(causal.propensity)"
   ]
  },
  {
   "cell_type": "code",
   "execution_count": 59,
   "metadata": {},
   "outputs": [
    {
     "data": {
      "text/plain": [
       "dict_keys(['lin', 'qua', 'coef', 'loglike', 'fitted', 'se'])"
      ]
     },
     "execution_count": 59,
     "metadata": {},
     "output_type": "execute_result"
    }
   ],
   "source": [
    "causal.propensity.keys()"
   ]
  },
  {
   "cell_type": "markdown",
   "metadata": {},
   "source": [
    "### Stratifying the Sample"
   ]
  },
  {
   "cell_type": "markdown",
   "metadata": {},
   "source": [
    "* これは見やすいし便利そう"
   ]
  },
  {
   "cell_type": "code",
   "execution_count": 60,
   "metadata": {
    "scrolled": true
   },
   "outputs": [
    {
     "name": "stdout",
     "output_type": "stream",
     "text": [
      "\n",
      "Stratification Summary\n",
      "\n",
      "              Propensity Score         Sample Size     Ave. Propensity   Outcome\n",
      "   Stratum      Min.      Max.  Controls   Treated  Controls   Treated  Raw-diff\n",
      "--------------------------------------------------------------------------------\n",
      "         1     0.021     0.111      1185        66     0.071     0.085     0.164\n",
      "         2     0.111     0.248      1024       226     0.187     0.179    -0.018\n",
      "         3     0.248     0.263       275        38     0.255     0.255     0.141\n",
      "         4     0.263     0.278       251        61     0.270     0.270     0.036\n",
      "         5     0.278     0.309       426       199     0.292     0.292     0.057\n",
      "         6     0.309     0.373       808       442     0.341     0.343     0.009\n",
      "         7     0.373     0.465       701       549     0.415     0.418     0.057\n",
      "         8     0.465     0.563       569       681     0.514     0.509    -0.051\n",
      "         9     0.563     0.645       228       397     0.599     0.602    -0.129\n",
      "        10     0.645     0.684       115       198     0.662     0.664     0.071\n",
      "        11     0.684     0.736        85       227     0.711     0.710     0.062\n",
      "        12     0.736     0.799        60       253     0.767     0.768    -0.011\n",
      "        13     0.799     0.874        57       255     0.824     0.842     0.000\n",
      "        14     0.874     0.998        72       552     0.934     0.933     0.080\n",
      "\n"
     ]
    },
    {
     "name": "stderr",
     "output_type": "stream",
     "text": [
      "/home/nbuser/anaconda3_501/lib/python3.6/site-packages/causalinference/core/summary.py:110: RuntimeWarning: invalid value encountered in true_divide\n",
      "  return (mean_t-mean_c) / np.sqrt((sd_c**2+sd_t**2)/2)\n"
     ]
    }
   ],
   "source": [
    "causal.stratify_s()\n",
    "print(causal.strata)"
   ]
  },
  {
   "cell_type": "markdown",
   "metadata": {},
   "source": [
    "### Treatment Effect Estimation"
   ]
  },
  {
   "cell_type": "markdown",
   "metadata": {},
   "source": [
    "以下手法での因果効果での推定も可能\n",
    "* DD推定量（Horvitz-Thompson weighting estimator. Also colled the doubly-robust estimator）\n",
    "* マッチング（k-NN.傾向スコアは利用しない？）"
   ]
  },
  {
   "cell_type": "code",
   "execution_count": 61,
   "metadata": {},
   "outputs": [
    {
     "name": "stderr",
     "output_type": "stream",
     "text": [
      "/home/nbuser/anaconda3_501/lib/python3.6/site-packages/causalinference/estimators/weighting.py:23: FutureWarning: `rcond` parameter will change to the default of machine precision times ``max(M, N)`` where M and N are the input matrix dimensions.\n",
      "To use the future default and silence this warning we advise to pass `rcond=None`, to keep using the old, explicitly pass `rcond=-1`.\n",
      "  wlscoef = np.linalg.lstsq(Z_w, Y_w)[0]\n",
      "/home/nbuser/anaconda3_501/lib/python3.6/site-packages/causalinference/estimators/matching.py:100: FutureWarning: `rcond` parameter will change to the default of machine precision times ``max(M, N)`` where M and N are the input matrix dimensions.\n",
      "To use the future default and silence this warning we advise to pass `rcond=None`, to keep using the old, explicitly pass `rcond=-1`.\n",
      "  return np.linalg.lstsq(X, Y)[0][1:]  # don't need intercept coef\n"
     ]
    },
    {
     "name": "stdout",
     "output_type": "stream",
     "text": [
      "\n",
      "Treatment Effect Estimates: OLS\n",
      "\n",
      "                     Est.       S.e.          z      P>|z|      [95% Conf. int.]\n",
      "--------------------------------------------------------------------------------\n",
      "           ATE      0.012      0.006      1.914      0.056     -0.000      0.024\n",
      "           ATC      0.013      0.008      1.727      0.084     -0.002      0.028\n",
      "           ATT      0.011      0.006      1.708      0.088     -0.002      0.023\n",
      "\n",
      "Treatment Effect Estimates: Weighting\n",
      "\n",
      "                     Est.       S.e.          z      P>|z|      [95% Conf. int.]\n",
      "--------------------------------------------------------------------------------\n",
      "           ATE      0.010      0.006      1.611      0.107     -0.002      0.023\n",
      "\n",
      "Treatment Effect Estimates: Matching\n",
      "\n",
      "                     Est.       S.e.          z      P>|z|      [95% Conf. int.]\n",
      "--------------------------------------------------------------------------------\n",
      "           ATE      0.023      0.020      1.154      0.249     -0.016      0.061\n",
      "           ATC      0.025      0.026      0.990      0.322     -0.025      0.076\n",
      "           ATT      0.019      0.028      0.679      0.497     -0.035      0.073\n",
      "\n"
     ]
    }
   ],
   "source": [
    "causal.est_via_weighting()\n",
    "#causal.est_via_blocking()\n",
    "causal.est_via_matching(bias_adj=True)\n",
    "print(causal.estimates)"
   ]
  },
  {
   "cell_type": "markdown",
   "metadata": {},
   "source": [
    "### Improving Covariate Balance"
   ]
  },
  {
   "cell_type": "markdown",
   "metadata": {},
   "source": [
    "* we may wish ot construct a sample where the treatment and control groups are more similar than the original full sample\n",
    "* One way of doing so is by dropping units with extreme values of propensity score"
   ]
  },
  {
   "cell_type": "markdown",
   "metadata": {},
   "source": [
    "* 後の結果に影響するため、記載場所を変更\n",
    "* 傾向スコアが極端なサンプルを除いたら、処置群と対照群の数値関係が逆転した"
   ]
  },
  {
   "cell_type": "code",
   "execution_count": 62,
   "metadata": {},
   "outputs": [
    {
     "data": {
      "text/plain": [
       "0.1"
      ]
     },
     "execution_count": 62,
     "metadata": {},
     "output_type": "execute_result"
    }
   ],
   "source": [
    "causal.cutoff"
   ]
  },
  {
   "cell_type": "code",
   "execution_count": 63,
   "metadata": {},
   "outputs": [
    {
     "data": {
      "text/plain": [
       "0.1134744987977595"
      ]
     },
     "execution_count": 63,
     "metadata": {},
     "output_type": "execute_result"
    }
   ],
   "source": [
    "causal.trim_s()\n",
    "causal.cutoff"
   ]
  },
  {
   "cell_type": "code",
   "execution_count": 64,
   "metadata": {},
   "outputs": [
    {
     "name": "stdout",
     "output_type": "stream",
     "text": [
      "\n",
      "Summary Statistics\n",
      "\n",
      "                      Controls (N_c=4598)        Treated (N_t=3606)             \n",
      "       Variable         Mean         S.d.         Mean         S.d.     Raw-diff\n",
      "--------------------------------------------------------------------------------\n",
      "              Y        0.073        0.260        0.070        0.255       -0.003\n",
      "\n",
      "                      Controls (N_c=4598)        Treated (N_t=3606)             \n",
      "       Variable         Mean         S.d.         Mean         S.d.     Nor-diff\n",
      "--------------------------------------------------------------------------------\n",
      "             X0     5882.822     5349.594     9245.699     6119.664        0.585\n",
      "             X1       40.102       10.515       41.687       10.208        0.153\n",
      "             X2        0.650        0.477        0.599        0.490       -0.105\n",
      "             X3        0.622        0.485        0.669        0.471        0.098\n",
      "             X4        0.418        0.493        0.417        0.493       -0.004\n",
      "             X5      359.569      262.731      346.364      270.571       -0.050\n",
      "             X6        3.602        3.419        3.548        3.401       -0.016\n",
      "             X7        0.077        0.267        0.136        0.343        0.191\n",
      "             X8        0.147        0.354        0.103        0.304       -0.133\n",
      "             X9        0.135        0.342        0.065        0.247       -0.235\n",
      "            X10        0.583        0.493        0.533        0.499       -0.100\n",
      "            X11        0.061        0.239        0.055        0.229       -0.022\n",
      "            X12        0.068        0.251        0.083        0.276        0.058\n",
      "            X13        0.013        0.114        0.012        0.109       -0.012\n",
      "            X14        0.100        0.300        0.138        0.345        0.120\n",
      "            X15        0.091        0.287        0.110        0.312        0.063\n",
      "            X16        0.050        0.218        0.033        0.179       -0.083\n",
      "            X17        0.161        0.368        0.146        0.353       -0.042\n",
      "            X18        0.132        0.338        0.167        0.373        0.099\n",
      "            X19        0.608        0.488        0.623        0.485        0.030\n",
      "            X20        0.080        0.271        0.056        0.230       -0.095\n",
      "\n"
     ]
    }
   ],
   "source": [
    "print(causal.summary_stats)"
   ]
  }
 ],
 "metadata": {
  "kernelspec": {
   "display_name": "Python 3",
   "language": "python",
   "name": "python3"
  },
  "language_info": {
   "codemirror_mode": {
    "name": "ipython",
    "version": 3
   },
   "file_extension": ".py",
   "mimetype": "text/x-python",
   "name": "python",
   "nbconvert_exporter": "python",
   "pygments_lexer": "ipython3",
   "version": "3.7.3"
  },
  "toc": {
   "base_numbering": 1,
   "nav_menu": {},
   "number_sections": true,
   "sideBar": true,
   "skip_h1_title": false,
   "title_cell": "Table of Contents",
   "title_sidebar": "Contents",
   "toc_cell": false,
   "toc_position": {},
   "toc_section_display": true,
   "toc_window_display": true
  },
  "varInspector": {
   "cols": {
    "lenName": 16,
    "lenType": 16,
    "lenVar": 40
   },
   "kernels_config": {
    "python": {
     "delete_cmd_postfix": "",
     "delete_cmd_prefix": "del ",
     "library": "var_list.py",
     "varRefreshCmd": "print(var_dic_list())"
    },
    "r": {
     "delete_cmd_postfix": ") ",
     "delete_cmd_prefix": "rm(",
     "library": "var_list.r",
     "varRefreshCmd": "cat(var_dic_list()) "
    }
   },
   "types_to_exclude": [
    "module",
    "function",
    "builtin_function_or_method",
    "instance",
    "_Feature"
   ],
   "window_display": false
  }
 },
 "nbformat": 4,
 "nbformat_minor": 1
}
