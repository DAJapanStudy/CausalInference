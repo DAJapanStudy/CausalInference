{
  "cells": [
    {
      "metadata": {},
      "cell_type": "markdown",
      "source": "## 参考文献\n* [岩波データサイエンスvol.3のデータで遊ぼう](https://rstudio-pubs-static.s3.amazonaws.com/192092_6a8bac32eac24d7ca3a4791a80e7f3d3.html)\n>★★★\n* [Harvard Causal Inference Book](https://www.hsph.harvard.edu/miguel-hernan/causal-inference-book/)\n>★★\n> * [pdf](https://cdn1.sph.harvard.edu/wp-content/uploads/sites/1268/2019/11/ci_hernanrobins_10nov19.pdf)\n> * [github(python)](https://github.com/jrfiedler/causal_inference_python_code)\n* https://www.randpy.tokyo/entry/python_propensity_score\n> ★★★\n> * Pythonによる実装\n> * 傾向スコアでのマッチングおよび、IPW推定量まで\n* https://www.slideshare.net/shuyo/observational-study-causality-52737410?qid=c202bc91-24d0-46e9-96e3-d9238e1e43bb&v=&b=&from_search=3\n> ★★\n>* 星野本1・2章の振り返り＆3章まとめ\n>* 本よりは簡潔で分かりやすいが、数式も割と追っている\n* http://tomoshige-n.hatenablog.com/entry/2016/06/19/033252\n>★★\n>* 岩波DSvol3の著者のうち1名のブログ\n>* IPW推定量のイメージが少しつかめる\n* https://sites.google.com/site/iwanamidatascience/vol-3/vol3-ingasuiron\n>★\n>* 岩波DSvol3の各論の補足資料\n* https://speakerdeck.com/tomoshige_n/causal-inference-and-data-analysis\n>★★★\n>* 傾向スコア使用時の実務的な注意点など\n>* 因果推論とは究極的に、「処置と結果変数に影響する変数の分布をすべて」処置群と対称群で等しくすればよい。（P.19）\n>* 2つの群の分布を釣り合わせているというのは、処置変数に影響する変数／潜在結果変数に与える影響が、2つの群で同じ分布となること（P.23）\n>* Bootstrap法でばらつきを考えるべき\n>* 推定値・BSサンプルの平均・推定分散・BSサンプルの分散・95%信頼区間・BS95%信頼区間、の6つは絶対に示した方が良い\n* https://www.slideshare.net/takehikoihayashi/propensity-score-analysis-seminar-japanese\n>★★\n>* ・1番とっつきやすい資料\n* https://www.slideshare.net/okumurayasuyuki/ss-43780294?next_slideshow=1\n>★★\n>* 傾向スコアの利用法が詳しい"
    },
    {
      "metadata": {},
      "cell_type": "markdown",
      "source": "## 準備"
    },
    {
      "metadata": {
        "trusted": true
      },
      "cell_type": "code",
      "source": "import pandas as pd\nimport numpy as np",
      "execution_count": 1,
      "outputs": []
    },
    {
      "metadata": {
        "trusted": true
      },
      "cell_type": "code",
      "source": "pd.options.display.max_columns = None\npd.options.display.max_rows = None\n\nfrom IPython.core.interactiveshell import InteractiveShell\nInteractiveShell.ast_node_interactivity = \"all\"",
      "execution_count": 3,
      "outputs": []
    },
    {
      "metadata": {
        "trusted": true
      },
      "cell_type": "code",
      "source": "import matplotlib.pyplot as plt\n%matplotlib inline\nimport seaborn as sns",
      "execution_count": 4,
      "outputs": [
        {
          "output_type": "stream",
          "text": "/home/nbuser/anaconda3_501/lib/python3.6/site-packages/matplotlib/font_manager.py:229: UserWarning: Matplotlib is building the font cache using fc-list. This may take a moment.\n  'Matplotlib is building the font cache using fc-list. '\n",
          "name": "stderr"
        }
      ]
    },
    {
      "metadata": {
        "trusted": true
      },
      "cell_type": "code",
      "source": "df = pd.read_csv('q_data_x.csv')\ndf.shape\ndf.head()",
      "execution_count": 5,
      "outputs": [
        {
          "output_type": "execute_result",
          "execution_count": 5,
          "data": {
            "text/plain": "(10000, 35)"
          },
          "metadata": {}
        },
        {
          "output_type": "execute_result",
          "execution_count": 5,
          "data": {
            "text/html": "<div>\n<style scoped>\n    .dataframe tbody tr th:only-of-type {\n        vertical-align: middle;\n    }\n\n    .dataframe tbody tr th {\n        vertical-align: top;\n    }\n\n    .dataframe thead th {\n        text-align: right;\n    }\n</style>\n<table border=\"1\" class=\"dataframe\">\n  <thead>\n    <tr style=\"text-align: right;\">\n      <th></th>\n      <th>cm_dummy</th>\n      <th>gamedummy</th>\n      <th>area_kanto</th>\n      <th>area_keihan</th>\n      <th>area_tokai</th>\n      <th>area_keihanshin</th>\n      <th>age</th>\n      <th>sex</th>\n      <th>marry_dummy</th>\n      <th>job_dummy1</th>\n      <th>job_dummy2</th>\n      <th>job_dummy3</th>\n      <th>job_dummy4</th>\n      <th>job_dummy5</th>\n      <th>job_dummy6</th>\n      <th>job_dummy7</th>\n      <th>job_dummy8</th>\n      <th>inc</th>\n      <th>pmoney</th>\n      <th>fam_str_dummy1</th>\n      <th>fam_str_dummy2</th>\n      <th>fam_str_dummy3</th>\n      <th>fam_str_dummy4</th>\n      <th>fam_str_dummy5</th>\n      <th>child_dummy</th>\n      <th>T</th>\n      <th>F1</th>\n      <th>F2</th>\n      <th>F3</th>\n      <th>M1</th>\n      <th>M2</th>\n      <th>M3</th>\n      <th>TVwatch_day</th>\n      <th>gamesecond</th>\n      <th>gamecount</th>\n    </tr>\n  </thead>\n  <tbody>\n    <tr>\n      <th>0</th>\n      <td>0</td>\n      <td>0</td>\n      <td>0</td>\n      <td>0</td>\n      <td>0</td>\n      <td>1</td>\n      <td>44.5</td>\n      <td>1</td>\n      <td>1</td>\n      <td>1</td>\n      <td>0</td>\n      <td>0</td>\n      <td>0</td>\n      <td>0</td>\n      <td>0</td>\n      <td>0</td>\n      <td>0</td>\n      <td>249.5</td>\n      <td>0.0</td>\n      <td>0</td>\n      <td>0</td>\n      <td>1</td>\n      <td>0</td>\n      <td>0</td>\n      <td>1</td>\n      <td>0</td>\n      <td>0</td>\n      <td>0</td>\n      <td>0</td>\n      <td>0</td>\n      <td>1</td>\n      <td>0</td>\n      <td>33.427600</td>\n      <td>0</td>\n      <td>0</td>\n    </tr>\n    <tr>\n      <th>1</th>\n      <td>0</td>\n      <td>0</td>\n      <td>0</td>\n      <td>1</td>\n      <td>0</td>\n      <td>0</td>\n      <td>34.5</td>\n      <td>1</td>\n      <td>1</td>\n      <td>1</td>\n      <td>0</td>\n      <td>0</td>\n      <td>0</td>\n      <td>0</td>\n      <td>0</td>\n      <td>0</td>\n      <td>0</td>\n      <td>800.0</td>\n      <td>12.5</td>\n      <td>0</td>\n      <td>0</td>\n      <td>1</td>\n      <td>0</td>\n      <td>0</td>\n      <td>1</td>\n      <td>0</td>\n      <td>0</td>\n      <td>0</td>\n      <td>0</td>\n      <td>0</td>\n      <td>1</td>\n      <td>0</td>\n      <td>31.542862</td>\n      <td>0</td>\n      <td>0</td>\n    </tr>\n    <tr>\n      <th>2</th>\n      <td>0</td>\n      <td>0</td>\n      <td>0</td>\n      <td>1</td>\n      <td>0</td>\n      <td>0</td>\n      <td>24.5</td>\n      <td>1</td>\n      <td>0</td>\n      <td>0</td>\n      <td>0</td>\n      <td>0</td>\n      <td>0</td>\n      <td>0</td>\n      <td>0</td>\n      <td>1</td>\n      <td>0</td>\n      <td>0.0</td>\n      <td>2.0</td>\n      <td>0</td>\n      <td>0</td>\n      <td>0</td>\n      <td>1</td>\n      <td>0</td>\n      <td>0</td>\n      <td>0</td>\n      <td>0</td>\n      <td>0</td>\n      <td>0</td>\n      <td>1</td>\n      <td>0</td>\n      <td>0</td>\n      <td>37.825805</td>\n      <td>0</td>\n      <td>0</td>\n    </tr>\n    <tr>\n      <th>3</th>\n      <td>0</td>\n      <td>0</td>\n      <td>0</td>\n      <td>1</td>\n      <td>0</td>\n      <td>0</td>\n      <td>44.5</td>\n      <td>1</td>\n      <td>1</td>\n      <td>1</td>\n      <td>0</td>\n      <td>0</td>\n      <td>0</td>\n      <td>0</td>\n      <td>0</td>\n      <td>0</td>\n      <td>0</td>\n      <td>800.0</td>\n      <td>2.0</td>\n      <td>0</td>\n      <td>0</td>\n      <td>1</td>\n      <td>0</td>\n      <td>0</td>\n      <td>1</td>\n      <td>0</td>\n      <td>0</td>\n      <td>0</td>\n      <td>0</td>\n      <td>0</td>\n      <td>1</td>\n      <td>0</td>\n      <td>36.345911</td>\n      <td>0</td>\n      <td>0</td>\n    </tr>\n    <tr>\n      <th>4</th>\n      <td>0</td>\n      <td>0</td>\n      <td>0</td>\n      <td>1</td>\n      <td>0</td>\n      <td>0</td>\n      <td>34.5</td>\n      <td>1</td>\n      <td>1</td>\n      <td>1</td>\n      <td>0</td>\n      <td>0</td>\n      <td>0</td>\n      <td>0</td>\n      <td>0</td>\n      <td>0</td>\n      <td>0</td>\n      <td>749.5</td>\n      <td>4.0</td>\n      <td>0</td>\n      <td>0</td>\n      <td>1</td>\n      <td>0</td>\n      <td>0</td>\n      <td>1</td>\n      <td>0</td>\n      <td>0</td>\n      <td>0</td>\n      <td>0</td>\n      <td>1</td>\n      <td>0</td>\n      <td>0</td>\n      <td>49.344942</td>\n      <td>0</td>\n      <td>0</td>\n    </tr>\n  </tbody>\n</table>\n</div>",
            "text/plain": "   cm_dummy  gamedummy  area_kanto  area_keihan  area_tokai  area_keihanshin  \\\n0         0          0           0            0           0                1   \n1         0          0           0            1           0                0   \n2         0          0           0            1           0                0   \n3         0          0           0            1           0                0   \n4         0          0           0            1           0                0   \n\n    age  sex  marry_dummy  job_dummy1  job_dummy2  job_dummy3  job_dummy4  \\\n0  44.5    1            1           1           0           0           0   \n1  34.5    1            1           1           0           0           0   \n2  24.5    1            0           0           0           0           0   \n3  44.5    1            1           1           0           0           0   \n4  34.5    1            1           1           0           0           0   \n\n   job_dummy5  job_dummy6  job_dummy7  job_dummy8    inc  pmoney  \\\n0           0           0           0           0  249.5     0.0   \n1           0           0           0           0  800.0    12.5   \n2           0           0           1           0    0.0     2.0   \n3           0           0           0           0  800.0     2.0   \n4           0           0           0           0  749.5     4.0   \n\n   fam_str_dummy1  fam_str_dummy2  fam_str_dummy3  fam_str_dummy4  \\\n0               0               0               1               0   \n1               0               0               1               0   \n2               0               0               0               1   \n3               0               0               1               0   \n4               0               0               1               0   \n\n   fam_str_dummy5  child_dummy  T  F1  F2  F3  M1  M2  M3  TVwatch_day  \\\n0               0            1  0   0   0   0   0   1   0    33.427600   \n1               0            1  0   0   0   0   0   1   0    31.542862   \n2               0            0  0   0   0   0   1   0   0    37.825805   \n3               0            1  0   0   0   0   0   1   0    36.345911   \n4               0            1  0   0   0   0   1   0   0    49.344942   \n\n   gamesecond  gamecount  \n0           0          0  \n1           0          0  \n2           0          0  \n3           0          0  \n4           0          0  "
          },
          "metadata": {}
        }
      ]
    },
    {
      "metadata": {},
      "cell_type": "markdown",
      "source": "## 分析1：岩波DS3解説の再現"
    },
    {
      "metadata": {
        "trusted": true
      },
      "cell_type": "code",
      "source": "sns.countplot(x='cm_dummy', data=df)",
      "execution_count": 6,
      "outputs": [
        {
          "output_type": "execute_result",
          "execution_count": 6,
          "data": {
            "text/plain": "<matplotlib.axes._subplots.AxesSubplot at 0x7f39b42acd68>"
          },
          "metadata": {}
        },
        {
          "output_type": "display_data",
          "data": {
            "image/png": "[encoded data removed]",
            "text/plain": "<Figure size 432x288 with 1 Axes>"
          },
          "metadata": {
            "needs_background": "light"
          }
        }
      ]
    },
    {
      "metadata": {},
      "cell_type": "markdown",
      "source": "### 平均値の比較\n* アプリ利用秒数と利用回数の平均値はCM接触群の方が小さい"
    },
    {
      "metadata": {
        "trusted": true
      },
      "cell_type": "code",
      "source": "agg_cols = [\n    \"gamedummy\",\n    \"gamecount\",\n    \"gamesecond\"\n]\ndf.groupby(\"cm_dummy\")[agg_cols].mean()",
      "execution_count": 7,
      "outputs": [
        {
          "output_type": "execute_result",
          "execution_count": 7,
          "data": {
            "text/html": "<div>\n<style scoped>\n    .dataframe tbody tr th:only-of-type {\n        vertical-align: middle;\n    }\n\n    .dataframe tbody tr th {\n        vertical-align: top;\n    }\n\n    .dataframe thead th {\n        text-align: right;\n    }\n</style>\n<table border=\"1\" class=\"dataframe\">\n  <thead>\n    <tr style=\"text-align: right;\">\n      <th></th>\n      <th>gamedummy</th>\n      <th>gamecount</th>\n      <th>gamesecond</th>\n    </tr>\n    <tr>\n      <th>cm_dummy</th>\n      <th></th>\n      <th></th>\n      <th></th>\n    </tr>\n  </thead>\n  <tbody>\n    <tr>\n      <th>0</th>\n      <td>0.073087</td>\n      <td>10.048497</td>\n      <td>3107.706455</td>\n    </tr>\n    <tr>\n      <th>1</th>\n      <td>0.075290</td>\n      <td>8.563948</td>\n      <td>2478.065878</td>\n    </tr>\n  </tbody>\n</table>\n</div>",
            "text/plain": "          gamedummy  gamecount   gamesecond\ncm_dummy                                   \n0          0.073087  10.048497  3107.706455\n1          0.075290   8.563948  2478.065878"
          },
          "metadata": {}
        }
      ]
    },
    {
      "metadata": {},
      "cell_type": "markdown",
      "source": "### セレクションバイアス\n* 居住地、性別、年齢、職業、TV試聴時間などがかなり異なる"
    },
    {
      "metadata": {
        "trusted": true
      },
      "cell_type": "code",
      "source": "pd.merge(df[df.cm_dummy==1].describe().T[['mean','std']],\n         df[df.cm_dummy==0].describe().T[['mean','std']],\n         left_index=True,\n         right_index=True, \n         how='left',\n         suffixes=['_cm_dummy_0', '_cm_dummy_1'])",
      "execution_count": 8,
      "outputs": [
        {
          "output_type": "execute_result",
          "execution_count": 8,
          "data": {
            "text/html": "<div>\n<style scoped>\n    .dataframe tbody tr th:only-of-type {\n        vertical-align: middle;\n    }\n\n    .dataframe tbody tr th {\n        vertical-align: top;\n    }\n\n    .dataframe thead th {\n        text-align: right;\n    }\n</style>\n<table border=\"1\" class=\"dataframe\">\n  <thead>\n    <tr style=\"text-align: right;\">\n      <th></th>\n      <th>mean_cm_dummy_0</th>\n      <th>std_cm_dummy_0</th>\n      <th>mean_cm_dummy_1</th>\n      <th>std_cm_dummy_1</th>\n    </tr>\n  </thead>\n  <tbody>\n    <tr>\n      <th>cm_dummy</th>\n      <td>1.000000</td>\n      <td>0.000000</td>\n      <td>0.000000</td>\n      <td>0.000000</td>\n    </tr>\n    <tr>\n      <th>gamedummy</th>\n      <td>0.075290</td>\n      <td>0.263890</td>\n      <td>0.073087</td>\n      <td>0.260302</td>\n    </tr>\n    <tr>\n      <th>area_kanto</th>\n      <td>0.131033</td>\n      <td>0.337477</td>\n      <td>0.063012</td>\n      <td>0.243006</td>\n    </tr>\n    <tr>\n      <th>area_keihan</th>\n      <td>0.701255</td>\n      <td>0.457763</td>\n      <td>0.509051</td>\n      <td>0.499961</td>\n    </tr>\n    <tr>\n      <th>area_tokai</th>\n      <td>0.093147</td>\n      <td>0.290673</td>\n      <td>0.124488</td>\n      <td>0.330165</td>\n    </tr>\n    <tr>\n      <th>area_keihanshin</th>\n      <td>0.074566</td>\n      <td>0.262721</td>\n      <td>0.303449</td>\n      <td>0.459787</td>\n    </tr>\n    <tr>\n      <th>age</th>\n      <td>41.767133</td>\n      <td>10.148360</td>\n      <td>40.187158</td>\n      <td>10.636461</td>\n    </tr>\n    <tr>\n      <th>sex</th>\n      <td>0.596766</td>\n      <td>0.490606</td>\n      <td>0.671107</td>\n      <td>0.469851</td>\n    </tr>\n    <tr>\n      <th>marry_dummy</th>\n      <td>0.670367</td>\n      <td>0.470137</td>\n      <td>0.630464</td>\n      <td>0.482720</td>\n    </tr>\n    <tr>\n      <th>job_dummy1</th>\n      <td>0.517616</td>\n      <td>0.499750</td>\n      <td>0.600581</td>\n      <td>0.489821</td>\n    </tr>\n    <tr>\n      <th>job_dummy2</th>\n      <td>0.050193</td>\n      <td>0.218369</td>\n      <td>0.057036</td>\n      <td>0.231930</td>\n    </tr>\n    <tr>\n      <th>job_dummy3</th>\n      <td>0.085907</td>\n      <td>0.280261</td>\n      <td>0.068818</td>\n      <td>0.253167</td>\n    </tr>\n    <tr>\n      <th>job_dummy4</th>\n      <td>0.013514</td>\n      <td>0.115473</td>\n      <td>0.011441</td>\n      <td>0.106359</td>\n    </tr>\n    <tr>\n      <th>job_dummy5</th>\n      <td>0.155888</td>\n      <td>0.362793</td>\n      <td>0.090676</td>\n      <td>0.287173</td>\n    </tr>\n    <tr>\n      <th>job_dummy6</th>\n      <td>0.111004</td>\n      <td>0.314175</td>\n      <td>0.092042</td>\n      <td>0.289110</td>\n    </tr>\n    <tr>\n      <th>job_dummy7</th>\n      <td>0.030647</td>\n      <td>0.172379</td>\n      <td>0.046448</td>\n      <td>0.210471</td>\n    </tr>\n    <tr>\n      <th>job_dummy8</th>\n      <td>0.035232</td>\n      <td>0.184387</td>\n      <td>0.032958</td>\n      <td>0.178541</td>\n    </tr>\n    <tr>\n      <th>inc</th>\n      <td>341.697153</td>\n      <td>270.695337</td>\n      <td>369.245902</td>\n      <td>264.486960</td>\n    </tr>\n    <tr>\n      <th>pmoney</th>\n      <td>3.544305</td>\n      <td>3.402763</td>\n      <td>3.558026</td>\n      <td>3.360252</td>\n    </tr>\n    <tr>\n      <th>fam_str_dummy1</th>\n      <td>0.144546</td>\n      <td>0.351685</td>\n      <td>0.150444</td>\n      <td>0.357537</td>\n    </tr>\n    <tr>\n      <th>fam_str_dummy2</th>\n      <td>0.168436</td>\n      <td>0.374298</td>\n      <td>0.128074</td>\n      <td>0.334200</td>\n    </tr>\n    <tr>\n      <th>fam_str_dummy3</th>\n      <td>0.622346</td>\n      <td>0.484859</td>\n      <td>0.619023</td>\n      <td>0.485668</td>\n    </tr>\n    <tr>\n      <th>fam_str_dummy4</th>\n      <td>0.050676</td>\n      <td>0.219361</td>\n      <td>0.083504</td>\n      <td>0.276666</td>\n    </tr>\n    <tr>\n      <th>fam_str_dummy5</th>\n      <td>0.013996</td>\n      <td>0.117489</td>\n      <td>0.018955</td>\n      <td>0.136377</td>\n    </tr>\n    <tr>\n      <th>child_dummy</th>\n      <td>0.424469</td>\n      <td>0.494322</td>\n      <td>0.421960</td>\n      <td>0.493914</td>\n    </tr>\n    <tr>\n      <th>T</th>\n      <td>0.012790</td>\n      <td>0.112379</td>\n      <td>0.013490</td>\n      <td>0.115372</td>\n    </tr>\n    <tr>\n      <th>F1</th>\n      <td>0.112934</td>\n      <td>0.316551</td>\n      <td>0.138320</td>\n      <td>0.345265</td>\n    </tr>\n    <tr>\n      <th>F2</th>\n      <td>0.225869</td>\n      <td>0.418204</td>\n      <td>0.136100</td>\n      <td>0.342924</td>\n    </tr>\n    <tr>\n      <th>F3</th>\n      <td>0.055261</td>\n      <td>0.228516</td>\n      <td>0.050034</td>\n      <td>0.218034</td>\n    </tr>\n    <tr>\n      <th>M1</th>\n      <td>0.102799</td>\n      <td>0.303733</td>\n      <td>0.166837</td>\n      <td>0.372863</td>\n    </tr>\n    <tr>\n      <th>M2</th>\n      <td>0.310569</td>\n      <td>0.462783</td>\n      <td>0.341701</td>\n      <td>0.474320</td>\n    </tr>\n    <tr>\n      <th>M3</th>\n      <td>0.179778</td>\n      <td>0.384049</td>\n      <td>0.153518</td>\n      <td>0.360517</td>\n    </tr>\n    <tr>\n      <th>TVwatch_day</th>\n      <td>11461.881259</td>\n      <td>8851.091199</td>\n      <td>5714.982257</td>\n      <td>5690.371292</td>\n    </tr>\n    <tr>\n      <th>gamesecond</th>\n      <td>2478.065878</td>\n      <td>15564.015196</td>\n      <td>3107.706455</td>\n      <td>19496.771900</td>\n    </tr>\n    <tr>\n      <th>gamecount</th>\n      <td>8.563948</td>\n      <td>53.331477</td>\n      <td>10.048497</td>\n      <td>55.266546</td>\n    </tr>\n  </tbody>\n</table>\n</div>",
            "text/plain": "                 mean_cm_dummy_0  std_cm_dummy_0  mean_cm_dummy_1  \\\ncm_dummy                1.000000        0.000000         0.000000   \ngamedummy               0.075290        0.263890         0.073087   \narea_kanto              0.131033        0.337477         0.063012   \narea_keihan             0.701255        0.457763         0.509051   \narea_tokai              0.093147        0.290673         0.124488   \narea_keihanshin         0.074566        0.262721         0.303449   \nage                    41.767133       10.148360        40.187158   \nsex                     0.596766        0.490606         0.671107   \nmarry_dummy             0.670367        0.470137         0.630464   \njob_dummy1              0.517616        0.499750         0.600581   \njob_dummy2              0.050193        0.218369         0.057036   \njob_dummy3              0.085907        0.280261         0.068818   \njob_dummy4              0.013514        0.115473         0.011441   \njob_dummy5              0.155888        0.362793         0.090676   \njob_dummy6              0.111004        0.314175         0.092042   \njob_dummy7              0.030647        0.172379         0.046448   \njob_dummy8              0.035232        0.184387         0.032958   \ninc                   341.697153      270.695337       369.245902   \npmoney                  3.544305        3.402763         3.558026   \nfam_str_dummy1          0.144546        0.351685         0.150444   \nfam_str_dummy2          0.168436        0.374298         0.128074   \nfam_str_dummy3          0.622346        0.484859         0.619023   \nfam_str_dummy4          0.050676        0.219361         0.083504   \nfam_str_dummy5          0.013996        0.117489         0.018955   \nchild_dummy             0.424469        0.494322         0.421960   \nT                       0.012790        0.112379         0.013490   \nF1                      0.112934        0.316551         0.138320   \nF2                      0.225869        0.418204         0.136100   \nF3                      0.055261        0.228516         0.050034   \nM1                      0.102799        0.303733         0.166837   \nM2                      0.310569        0.462783         0.341701   \nM3                      0.179778        0.384049         0.153518   \nTVwatch_day         11461.881259     8851.091199      5714.982257   \ngamesecond           2478.065878    15564.015196      3107.706455   \ngamecount               8.563948       53.331477        10.048497   \n\n                 std_cm_dummy_1  \ncm_dummy               0.000000  \ngamedummy              0.260302  \narea_kanto             0.243006  \narea_keihan            0.499961  \narea_tokai             0.330165  \narea_keihanshin        0.459787  \nage                   10.636461  \nsex                    0.469851  \nmarry_dummy            0.482720  \njob_dummy1             0.489821  \njob_dummy2             0.231930  \njob_dummy3             0.253167  \njob_dummy4             0.106359  \njob_dummy5             0.287173  \njob_dummy6             0.289110  \njob_dummy7             0.210471  \njob_dummy8             0.178541  \ninc                  264.486960  \npmoney                 3.360252  \nfam_str_dummy1         0.357537  \nfam_str_dummy2         0.334200  \nfam_str_dummy3         0.485668  \nfam_str_dummy4         0.276666  \nfam_str_dummy5         0.136377  \nchild_dummy            0.493914  \nT                      0.115372  \nF1                     0.345265  \nF2                     0.342924  \nF3                     0.218034  \nM1                     0.372863  \nM2                     0.474320  \nM3                     0.360517  \nTVwatch_day         5690.371292  \ngamesecond         19496.771900  \ngamecount             55.266546  "
          },
          "metadata": {}
        }
      ]
    },
    {
      "metadata": {},
      "cell_type": "markdown",
      "source": "### 平均処置効果の推定\n* 平均処置効果：ATE(Average Treatment Effect)\n* 処置群での平均処置効果：ATT(Average Treatment effect on the Treated)"
    },
    {
      "metadata": {
        "trusted": true
      },
      "cell_type": "code",
      "source": "import statsmodels.api as sm\nfrom statsmodels.tools import add_constant",
      "execution_count": 13,
      "outputs": []
    },
    {
      "metadata": {
        "trusted": true
      },
      "cell_type": "code",
      "source": "x_cols=[\n    'TVwatch_day',\n    'age',\n    'sex',\n    'marry_dummy',\n    'child_dummy',\n    'inc',\n    'pmoney',\n    'area_kanto',\n    'area_tokai',\n    'area_keihanshin',\n    'job_dummy1',\n    'job_dummy2',\n    'job_dummy3',\n    'job_dummy4',\n    'job_dummy5',\n    'job_dummy6',\n    'job_dummy7',\n    'fam_str_dummy1',\n    'fam_str_dummy2',\n    'fam_str_dummy3',\n    'fam_str_dummy4',\n    #'T',\n    #'F1',\n    #'F2',\n    #'F3',\n    #'M1',\n    #'M2',\n    #'M3',\n]",
      "execution_count": 9,
      "outputs": []
    },
    {
      "metadata": {
        "trusted": true
      },
      "cell_type": "code",
      "source": "ps_model = sm.Logit(df.cm_dummy, add_constant(df[x_cols])).fit()\nps_model.summary2()",
      "execution_count": 14,
      "outputs": [
        {
          "output_type": "stream",
          "text": "Optimization terminated successfully.\n         Current function value: 0.542117\n         Iterations 6\n",
          "name": "stdout"
        },
        {
          "output_type": "execute_result",
          "execution_count": 14,
          "data": {
            "text/html": "<table class=\"simpletable\">\n<tr>\n        <td>Model:</td>              <td>Logit</td>      <td>Pseudo R-squared:</td>    <td>0.201</td>  \n</tr>\n<tr>\n  <td>Dependent Variable:</td>     <td>cm_dummy</td>           <td>AIC:</td>        <td>10886.3417</td>\n</tr>\n<tr>\n         <td>Date:</td>        <td>2019-11-13 15:34</td>       <td>BIC:</td>        <td>11044.9692</td>\n</tr>\n<tr>\n   <td>No. Observations:</td>        <td>10000</td>       <td>Log-Likelihood:</td>    <td>-5421.2</td> \n</tr>\n<tr>\n       <td>Df Model:</td>             <td>21</td>            <td>LL-Null:</td>        <td>-6784.2</td> \n</tr>\n<tr>\n     <td>Df Residuals:</td>          <td>9978</td>         <td>LLR p-value:</td>      <td>0.0000</td>  \n</tr>\n<tr>\n      <td>Converged:</td>           <td>1.0000</td>           <td>Scale:</td>         <td>1.0000</td>  \n</tr>\n<tr>\n    <td>No. Iterations:</td>        <td>6.0000</td>              <td></td>               <td></td>     \n</tr>\n</table>\n<table class=\"simpletable\">\n<tr>\n         <td></td>          <th>Coef.</th>  <th>Std.Err.</th>     <th>z</th>     <th>P>|z|</th> <th>[0.025</th>  <th>0.975]</th> \n</tr>\n<tr>\n  <th>const</th>           <td>-1.7709</td>  <td>0.2615</td>   <td>-6.7728</td> <td>0.0000</td> <td>-2.2833</td> <td>-1.2584</td>\n</tr>\n<tr>\n  <th>TVwatch_day</th>     <td>0.0001</td>   <td>0.0000</td>   <td>31.9917</td> <td>0.0000</td> <td>0.0001</td>  <td>0.0001</td> \n</tr>\n<tr>\n  <th>age</th>             <td>-0.0026</td>  <td>0.0029</td>   <td>-0.8871</td> <td>0.3750</td> <td>-0.0084</td> <td>0.0032</td> \n</tr>\n<tr>\n  <th>sex</th>             <td>0.0006</td>   <td>0.0647</td>   <td>0.0092</td>  <td>0.9927</td> <td>-0.1262</td> <td>0.1273</td> \n</tr>\n<tr>\n  <th>marry_dummy</th>     <td>-0.0781</td>  <td>0.0856</td>   <td>-0.9134</td> <td>0.3610</td> <td>-0.2458</td> <td>0.0895</td> \n</tr>\n<tr>\n  <th>child_dummy</th>     <td>0.3142</td>   <td>0.0743</td>   <td>4.2269</td>  <td>0.0000</td> <td>0.1685</td>  <td>0.4599</td> \n</tr>\n<tr>\n  <th>inc</th>             <td>-0.0005</td>  <td>0.0002</td>   <td>-2.9190</td> <td>0.0035</td> <td>-0.0008</td> <td>-0.0002</td>\n</tr>\n<tr>\n  <th>pmoney</th>          <td>0.0119</td>   <td>0.0077</td>   <td>1.5434</td>  <td>0.1227</td> <td>-0.0032</td> <td>0.0271</td> \n</tr>\n<tr>\n  <th>area_kanto</th>      <td>0.4050</td>   <td>0.0790</td>   <td>5.1239</td>  <td>0.0000</td> <td>0.2501</td>  <td>0.5599</td> \n</tr>\n<tr>\n  <th>area_tokai</th>      <td>-0.7233</td>  <td>0.0765</td>   <td>-9.4490</td> <td>0.0000</td> <td>-0.8733</td> <td>-0.5732</td>\n</tr>\n<tr>\n  <th>area_keihanshin</th> <td>-2.0420</td>  <td>0.0756</td>  <td>-27.0074</td> <td>0.0000</td> <td>-2.1902</td> <td>-1.8938</td>\n</tr>\n<tr>\n  <th>job_dummy1</th>      <td>0.1752</td>   <td>0.1562</td>   <td>1.1219</td>  <td>0.2619</td> <td>-0.1309</td> <td>0.4814</td> \n</tr>\n<tr>\n  <th>job_dummy2</th>      <td>0.1651</td>   <td>0.1677</td>   <td>0.9842</td>  <td>0.3250</td> <td>-0.1637</td> <td>0.4938</td> \n</tr>\n<tr>\n  <th>job_dummy3</th>      <td>0.5399</td>   <td>0.1604</td>   <td>3.3659</td>  <td>0.0008</td> <td>0.2255</td>  <td>0.8543</td> \n</tr>\n<tr>\n  <th>job_dummy4</th>      <td>0.3604</td>   <td>0.2433</td>   <td>1.4811</td>  <td>0.1386</td> <td>-0.1165</td> <td>0.8372</td> \n</tr>\n<tr>\n  <th>job_dummy5</th>      <td>0.6414</td>   <td>0.1520</td>   <td>4.2193</td>  <td>0.0000</td> <td>0.3435</td>  <td>0.9393</td> \n</tr>\n<tr>\n  <th>job_dummy6</th>      <td>0.2848</td>   <td>0.1581</td>   <td>1.8010</td>  <td>0.0717</td> <td>-0.0251</td> <td>0.5947</td> \n</tr>\n<tr>\n  <th>job_dummy7</th>      <td>0.1540</td>   <td>0.1834</td>   <td>0.8394</td>  <td>0.4013</td> <td>-0.2056</td> <td>0.5135</td> \n</tr>\n<tr>\n  <th>fam_str_dummy1</th>  <td>0.7640</td>   <td>0.2045</td>   <td>3.7359</td>  <td>0.0002</td> <td>0.3632</td>  <td>1.1648</td> \n</tr>\n<tr>\n  <th>fam_str_dummy2</th>  <td>1.0033</td>   <td>0.2176</td>   <td>4.6118</td>  <td>0.0000</td> <td>0.5769</td>  <td>1.4297</td> \n</tr>\n<tr>\n  <th>fam_str_dummy3</th>  <td>0.6137</td>   <td>0.2021</td>   <td>3.0373</td>  <td>0.0024</td> <td>0.2177</td>  <td>1.0098</td> \n</tr>\n<tr>\n  <th>fam_str_dummy4</th>  <td>0.1799</td>   <td>0.2216</td>   <td>0.8121</td>  <td>0.4167</td> <td>-0.2543</td> <td>0.6142</td> \n</tr>\n</table>",
            "text/plain": "<class 'statsmodels.iolib.summary2.Summary'>\n\"\"\"\n                         Results: Logit\n=================================================================\nModel:              Logit            Pseudo R-squared: 0.201     \nDependent Variable: cm_dummy         AIC:              10886.3417\nDate:               2019-11-13 15:34 BIC:              11044.9692\nNo. Observations:   10000            Log-Likelihood:   -5421.2   \nDf Model:           21               LL-Null:          -6784.2   \nDf Residuals:       9978             LLR p-value:      0.0000    \nConverged:          1.0000           Scale:            1.0000    \nNo. Iterations:     6.0000                                       \n-----------------------------------------------------------------\n                  Coef.  Std.Err.    z     P>|z|   [0.025  0.975]\n-----------------------------------------------------------------\nconst            -1.7709   0.2615  -6.7728 0.0000 -2.2833 -1.2584\nTVwatch_day       0.0001   0.0000  31.9917 0.0000  0.0001  0.0001\nage              -0.0026   0.0029  -0.8871 0.3750 -0.0084  0.0032\nsex               0.0006   0.0647   0.0092 0.9927 -0.1262  0.1273\nmarry_dummy      -0.0781   0.0856  -0.9134 0.3610 -0.2458  0.0895\nchild_dummy       0.3142   0.0743   4.2269 0.0000  0.1685  0.4599\ninc              -0.0005   0.0002  -2.9190 0.0035 -0.0008 -0.0002\npmoney            0.0119   0.0077   1.5434 0.1227 -0.0032  0.0271\narea_kanto        0.4050   0.0790   5.1239 0.0000  0.2501  0.5599\narea_tokai       -0.7233   0.0765  -9.4490 0.0000 -0.8733 -0.5732\narea_keihanshin  -2.0420   0.0756 -27.0074 0.0000 -2.1902 -1.8938\njob_dummy1        0.1752   0.1562   1.1219 0.2619 -0.1309  0.4814\njob_dummy2        0.1651   0.1677   0.9842 0.3250 -0.1637  0.4938\njob_dummy3        0.5399   0.1604   3.3659 0.0008  0.2255  0.8543\njob_dummy4        0.3604   0.2433   1.4811 0.1386 -0.1165  0.8372\njob_dummy5        0.6414   0.1520   4.2193 0.0000  0.3435  0.9393\njob_dummy6        0.2848   0.1581   1.8010 0.0717 -0.0251  0.5947\njob_dummy7        0.1540   0.1834   0.8394 0.4013 -0.2056  0.5135\nfam_str_dummy1    0.7640   0.2045   3.7359 0.0002  0.3632  1.1648\nfam_str_dummy2    1.0033   0.2176   4.6118 0.0000  0.5769  1.4297\nfam_str_dummy3    0.6137   0.2021   3.0373 0.0024  0.2177  1.0098\nfam_str_dummy4    0.1799   0.2216   0.8121 0.4167 -0.2543  0.6142\n=================================================================\n\n\"\"\""
          },
          "metadata": {}
        }
      ]
    },
    {
      "metadata": {
        "trusted": true
      },
      "cell_type": "code",
      "source": "# モデルの予測値の確認\ndf['ps'] = ps_model.predict(add_constant(df[x_cols]))\ndf['ps'].describe()",
      "execution_count": 17,
      "outputs": [
        {
          "output_type": "execute_result",
          "execution_count": 17,
          "data": {
            "text/plain": "count    10000.000000\nmean         0.414400\nstd          0.243460\nmin          0.020762\n25%          0.247706\n50%          0.373040\n75%          0.563423\nmax          0.998033\nName: ps, dtype: float64"
          },
          "metadata": {}
        }
      ]
    },
    {
      "metadata": {
        "trusted": true
      },
      "cell_type": "code",
      "source": "from sklearn.metrics import roc_auc_score\nroc_auc_score(df.cm_dummy, df.ps)",
      "execution_count": 18,
      "outputs": [
        {
          "output_type": "execute_result",
          "execution_count": 18,
          "data": {
            "text/plain": "0.7917028470947529"
          },
          "metadata": {}
        }
      ]
    },
    {
      "metadata": {
        "trusted": true
      },
      "cell_type": "code",
      "source": "#★\n#傾向スコアの逆数の重み\ndf['ipw_ate'] = np.where(df.cm_dummy==1,\n                         1 / df.ps,\n                         1 / (1 - df.ps))\ndf['ipw_att'] = np.where(df.cm_dummy==1,\n                         1,\n                         df.ps / (1 - df.ps))\nate_models = [\n    sm.WLS(df.gamedummy, pd.get_dummies(df.cm_dummy), weights=df.ipw_ate).fit(),\n    sm.WLS(df.gamecount, pd.get_dummies(df.cm_dummy), weights=df.ipw_ate).fit(),\n    sm.WLS(df.gamesecond, pd.get_dummies(df.cm_dummy), weights=df.ipw_ate).fit()\n]\natt_models = [\n    sm.WLS(df.gamedummy, pd.get_dummies(df.cm_dummy), weights=df.ipw_att).fit(),\n    sm.WLS(df.gamecount, pd.get_dummies(df.cm_dummy), weights=df.ipw_att).fit(),\n    sm.WLS(df.gamesecond, pd.get_dummies(df.cm_dummy), weights=df.ipw_att).fit()\n]                         ",
      "execution_count": 19,
      "outputs": []
    },
    {
      "metadata": {},
      "cell_type": "raw",
      "source": "w1 = df.cm_dummy / df.ps\nw0 = (1 - df.cm_dummy) / (1 - df.ps)\nw = w1 / (w1.sum() / df.cm_dummy.sum()) + w0 / (w0.sum() / (1-df.cm_dummy).sum())\n\nate_models = [\n    sm.WLS(df.gamedummy, pd.get_dummies(df.cm_dummy), weights=w).fit(),\n    sm.WLS(df.gamecount, pd.get_dummies(df.cm_dummy), weights=w).fit(),\n    sm.WLS(df.gamesecond, pd.get_dummies(df.cm_dummy), weights=w).fit()\n]\natt_models = [\n    sm.WLS(df.gamedummy, pd.get_dummies(df.cm_dummy), weights=w * df.ps).fit(),\n    sm.WLS(df.gamecount, pd.get_dummies(df.cm_dummy), weights=w * df.ps).fit(),\n    sm.WLS(df.gamesecond, pd.get_dummies(df.cm_dummy), weights=w * df.ps).fit()\n]"
    },
    {
      "metadata": {
        "trusted": true
      },
      "cell_type": "raw",
      "source": "for model in (ate_models + att_models):\n    print(model.summary2())"
    },
    {
      "metadata": {
        "trusted": true
      },
      "cell_type": "code",
      "source": "df_result = pd.DataFrame(index=[\n    'ATE_gamedummy', 'ATE_gamecount', 'ATE_gamesecond',\n    'ATT_gamedummy', 'ATT_gamecount', 'ATT_gamesecond'\n],columns=[\n    'cm_dummy_1', 'cm_dummy_0', 'causal_effect'\n])\nfor (i, model) in enumerate(ate_models + att_models):\n    df_result.iloc[i, 0] = model.params[1]\n    df_result.iloc[i, 1] = model.params[0]\ndf_result.causal_effect = df_result.cm_dummy_1 - df_result.cm_dummy_0\ndf_result",
      "execution_count": 20,
      "outputs": [
        {
          "output_type": "execute_result",
          "execution_count": 20,
          "data": {
            "text/html": "<div>\n<style scoped>\n    .dataframe tbody tr th:only-of-type {\n        vertical-align: middle;\n    }\n\n    .dataframe tbody tr th {\n        vertical-align: top;\n    }\n\n    .dataframe thead th {\n        text-align: right;\n    }\n</style>\n<table border=\"1\" class=\"dataframe\">\n  <thead>\n    <tr style=\"text-align: right;\">\n      <th></th>\n      <th>cm_dummy_1</th>\n      <th>cm_dummy_0</th>\n      <th>causal_effect</th>\n    </tr>\n  </thead>\n  <tbody>\n    <tr>\n      <th>ATE_gamedummy</th>\n      <td>0.0943644</td>\n      <td>0.0624071</td>\n      <td>0.0319572</td>\n    </tr>\n    <tr>\n      <th>ATE_gamecount</th>\n      <td>13.6364</td>\n      <td>8.31669</td>\n      <td>5.31967</td>\n    </tr>\n    <tr>\n      <th>ATE_gamesecond</th>\n      <td>4143.33</td>\n      <td>2639.41</td>\n      <td>1503.92</td>\n    </tr>\n    <tr>\n      <th>ATT_gamedummy</th>\n      <td>0.0752896</td>\n      <td>0.0496548</td>\n      <td>0.0256348</td>\n    </tr>\n    <tr>\n      <th>ATT_gamecount</th>\n      <td>8.56395</td>\n      <td>6.2489</td>\n      <td>2.31505</td>\n    </tr>\n    <tr>\n      <th>ATT_gamesecond</th>\n      <td>2478.07</td>\n      <td>2080.27</td>\n      <td>397.8</td>\n    </tr>\n  </tbody>\n</table>\n</div>",
            "text/plain": "               cm_dummy_1 cm_dummy_0 causal_effect\nATE_gamedummy   0.0943644  0.0624071     0.0319572\nATE_gamecount     13.6364    8.31669       5.31967\nATE_gamesecond    4143.33    2639.41       1503.92\nATT_gamedummy   0.0752896  0.0496548     0.0256348\nATT_gamecount     8.56395     6.2489       2.31505\nATT_gamesecond    2478.07    2080.27         397.8"
          },
          "metadata": {}
        }
      ]
    },
    {
      "metadata": {
        "trusted": true
      },
      "cell_type": "code",
      "source": "#ATE\nw1 = df.cm_dummy / df.ps\nw0 = (1 - df.cm_dummy) / (1 - df.ps)\nate_value = (w1 * df['gamedummy']).sum() / w1.sum() - (w0 * df['gamedummy']).sum() / w0.sum()\nprint(f'ATE:{ate_value:.4f}')\n#ATT\natt_value = (df['cm_dummy']*df['gamedummy']).sum() / df['cm_dummy'].sum() - (w0*df.ps*df['gamedummy']).sum() / (w0*df.ps).sum()\nprint(f'ATT:{att_value:.4f}')",
      "execution_count": 21,
      "outputs": [
        {
          "output_type": "stream",
          "text": "ATE:0.0320\nATT:0.0256\n",
          "name": "stdout"
        }
      ]
    },
    {
      "metadata": {
        "trusted": true
      },
      "cell_type": "markdown",
      "source": "### 調整効果の推定\n* 飛ばす"
    },
    {
      "metadata": {},
      "cell_type": "markdown",
      "source": "## 分析2：本に載っていないことを試す"
    },
    {
      "metadata": {},
      "cell_type": "markdown",
      "source": "### 傾向スコアによる層別解析"
    },
    {
      "metadata": {
        "trusted": true
      },
      "cell_type": "raw",
      "source": "def calc_ate(df_in):\n    ate = (df_in.cm_dummy*df_in.gamedummy/df_in.ps).sum() / (df_in.cm_dummy/df_in.ps).sum() - \\\n        ((1-df_in.cm_dummy)*df_in.gamedummy/(1-df_in.ps)).sum() / ((1-df_in.cm_dummy)/(1-df_in.ps)).sum()\n    return ate"
    },
    {
      "metadata": {
        "trusted": true
      },
      "cell_type": "code",
      "source": "y_list = ['gamedummy', 'gamecount', 'gamesecond']\nstrata_list = [5, 10, 20]\ndf_strata = pd.DataFrame(index=['ate_'+str(i) for i in strata_list],\n                         columns=y_list)\n\nfor y in y_list:\n    for strata in strata_list:\n        col_name = 'strata' + str(strata)\n        df[col_name] = pd.qcut(df.ps, strata)\n        df_agg = pd.pivot_table(df, values=y, index=col_name,\n                                columns='cm_dummy', aggfunc='mean')\n        df_strata.loc['ate_'+str(strata), y] \\\n            = (df_agg[1] - df_agg[0]).mean()\ndf_strata",
      "execution_count": 31,
      "outputs": [
        {
          "output_type": "execute_result",
          "execution_count": 31,
          "data": {
            "text/html": "<div>\n<style scoped>\n    .dataframe tbody tr th:only-of-type {\n        vertical-align: middle;\n    }\n\n    .dataframe tbody tr th {\n        vertical-align: top;\n    }\n\n    .dataframe thead th {\n        text-align: right;\n    }\n</style>\n<table border=\"1\" class=\"dataframe\">\n  <thead>\n    <tr style=\"text-align: right;\">\n      <th></th>\n      <th>gamedummy</th>\n      <th>gamecount</th>\n      <th>gamesecond</th>\n    </tr>\n  </thead>\n  <tbody>\n    <tr>\n      <th>ate_5</th>\n      <td>0.0218066</td>\n      <td>1.4988</td>\n      <td>68.2629</td>\n    </tr>\n    <tr>\n      <th>ate_10</th>\n      <td>0.0303475</td>\n      <td>4.56372</td>\n      <td>1317.08</td>\n    </tr>\n    <tr>\n      <th>ate_20</th>\n      <td>0.0556413</td>\n      <td>16.0481</td>\n      <td>5482.29</td>\n    </tr>\n  </tbody>\n</table>\n</div>",
            "text/plain": "        gamedummy gamecount gamesecond\nate_5   0.0218066    1.4988    68.2629\nate_10  0.0303475   4.56372    1317.08\nate_20  0.0556413   16.0481    5482.29"
          },
          "metadata": {}
        }
      ]
    },
    {
      "metadata": {},
      "cell_type": "markdown",
      "source": "* 層別解析とサブグループ解析は異なる\n* 層別解析では、最終的に各層での結果を統合する\n> http://triadsou.hatenablog.com/entry/20070719/1239383308"
    },
    {
      "metadata": {},
      "cell_type": "markdown",
      "source": "### 傾向スコアによるマッチング"
    },
    {
      "metadata": {},
      "cell_type": "markdown",
      "source": "### 傾向スコアによるカーネルマッチング"
    },
    {
      "metadata": {},
      "cell_type": "markdown",
      "source": "### 傾向スコアをロジスティック回帰以外の方法で推定する"
    },
    {
      "metadata": {
        "trusted": true
      },
      "cell_type": "code",
      "source": "",
      "execution_count": null,
      "outputs": []
    }
  ],
  "metadata": {
    "kernelspec": {
      "name": "python36",
      "display_name": "Python 3.6",
      "language": "python"
    },
    "toc": {
      "nav_menu": {},
      "number_sections": true,
      "sideBar": true,
      "skip_h1_title": false,
      "base_numbering": 1,
      "title_cell": "Table of Contents",
      "title_sidebar": "Contents",
      "toc_cell": false,
      "toc_position": {},
      "toc_section_display": true,
      "toc_window_display": true
    },
    "varInspector": {
      "window_display": false,
      "cols": {
        "lenName": 16,
        "lenType": 16,
        "lenVar": 40
      },
      "kernels_config": {
        "python": {
          "library": "var_list.py",
          "delete_cmd_prefix": "del ",
          "delete_cmd_postfix": "",
          "varRefreshCmd": "print(var_dic_list())"
        },
        "r": {
          "library": "var_list.r",
          "delete_cmd_prefix": "rm(",
          "delete_cmd_postfix": ") ",
          "varRefreshCmd": "cat(var_dic_list()) "
        }
      },
      "types_to_exclude": [
        "module",
        "function",
        "builtin_function_or_method",
        "instance",
        "_Feature"
      ]
    },
    "language_info": {
      "mimetype": "text/x-python",
      "nbconvert_exporter": "python",
      "name": "python",
      "pygments_lexer": "ipython3",
      "version": "3.6.6",
      "file_extension": ".py",
      "codemirror_mode": {
        "version": 3,
        "name": "ipython"
      }
    }
  },
  "nbformat": 4,
  "nbformat_minor": 1
}